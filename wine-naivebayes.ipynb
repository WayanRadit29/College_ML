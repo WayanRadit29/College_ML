{
 "cells": [
  {
   "cell_type": "markdown",
   "metadata": {},
   "source": [
    "# Load Data"
   ]
  },
  {
   "cell_type": "code",
   "execution_count": null,
   "metadata": {
    "execution": {
     "iopub.execute_input": "2025-09-10T06:52:46.328364Z",
     "iopub.status.busy": "2025-09-10T06:52:46.328038Z",
     "iopub.status.idle": "2025-09-10T06:52:54.148612Z",
     "shell.execute_reply": "2025-09-10T06:52:54.147176Z",
     "shell.execute_reply.started": "2025-09-10T06:52:46.328343Z"
    },
    "trusted": true
   },
   "outputs": [
    {
     "name": "stdout",
     "output_type": "stream",
     "text": [
      "Collecting gdown\n",
      "  Downloading gdown-5.2.0-py3-none-any.whl.metadata (5.8 kB)\n",
      "Collecting beautifulsoup4 (from gdown)\n",
      "  Using cached beautifulsoup4-4.13.5-py3-none-any.whl.metadata (3.8 kB)\n",
      "Collecting filelock (from gdown)\n",
      "  Downloading filelock-3.19.1-py3-none-any.whl.metadata (2.1 kB)\n",
      "Collecting requests[socks] (from gdown)\n",
      "  Using cached requests-2.32.5-py3-none-any.whl.metadata (4.9 kB)\n",
      "Collecting tqdm (from gdown)\n",
      "  Using cached tqdm-4.67.1-py3-none-any.whl.metadata (57 kB)\n",
      "Collecting soupsieve>1.2 (from beautifulsoup4->gdown)\n",
      "  Using cached soupsieve-2.8-py3-none-any.whl.metadata (4.6 kB)\n",
      "Collecting typing-extensions>=4.0.0 (from beautifulsoup4->gdown)\n",
      "  Using cached typing_extensions-4.15.0-py3-none-any.whl.metadata (3.3 kB)\n",
      "Collecting charset_normalizer<4,>=2 (from requests[socks]->gdown)\n",
      "  Using cached charset_normalizer-3.4.3-cp312-cp312-win_amd64.whl.metadata (37 kB)\n",
      "Collecting idna<4,>=2.5 (from requests[socks]->gdown)\n",
      "  Using cached idna-3.10-py3-none-any.whl.metadata (10 kB)\n",
      "Collecting urllib3<3,>=1.21.1 (from requests[socks]->gdown)\n",
      "  Using cached urllib3-2.5.0-py3-none-any.whl.metadata (6.5 kB)\n",
      "Collecting certifi>=2017.4.17 (from requests[socks]->gdown)\n",
      "  Using cached certifi-2025.8.3-py3-none-any.whl.metadata (2.4 kB)\n",
      "Collecting PySocks!=1.5.7,>=1.5.6 (from requests[socks]->gdown)\n",
      "  Downloading PySocks-1.7.1-py3-none-any.whl.metadata (13 kB)\n",
      "Requirement already satisfied: colorama in d:\\ai_journey\\machine_learning_journey\\ml\\lib\\site-packages (from tqdm->gdown) (0.4.6)\n",
      "Downloading gdown-5.2.0-py3-none-any.whl (18 kB)\n",
      "Using cached beautifulsoup4-4.13.5-py3-none-any.whl (105 kB)\n",
      "Downloading filelock-3.19.1-py3-none-any.whl (15 kB)\n",
      "Using cached tqdm-4.67.1-py3-none-any.whl (78 kB)\n",
      "Using cached certifi-2025.8.3-py3-none-any.whl (161 kB)\n",
      "Using cached charset_normalizer-3.4.3-cp312-cp312-win_amd64.whl (107 kB)\n",
      "Using cached idna-3.10-py3-none-any.whl (70 kB)\n",
      "Downloading PySocks-1.7.1-py3-none-any.whl (16 kB)\n",
      "Using cached soupsieve-2.8-py3-none-any.whl (36 kB)\n",
      "Using cached typing_extensions-4.15.0-py3-none-any.whl (44 kB)\n",
      "Using cached urllib3-2.5.0-py3-none-any.whl (129 kB)\n",
      "Using cached requests-2.32.5-py3-none-any.whl (64 kB)\n",
      "Installing collected packages: urllib3, typing-extensions, tqdm, soupsieve, PySocks, idna, filelock, charset_normalizer, certifi, requests, beautifulsoup4, gdown\n",
      "Successfully installed PySocks-1.7.1 beautifulsoup4-4.13.5 certifi-2025.8.3 charset_normalizer-3.4.3 filelock-3.19.1 gdown-5.2.0 idna-3.10 requests-2.32.5 soupsieve-2.8 tqdm-4.67.1 typing-extensions-4.15.0 urllib3-2.5.0\n"
     ]
    },
    {
     "name": "stderr",
     "output_type": "stream",
     "text": [
      "\n",
      "[notice] A new release of pip is available: 24.0 -> 25.2\n",
      "[notice] To update, run: python.exe -m pip install --upgrade pip\n",
      "Downloading...\n",
      "From: https://drive.google.com/uc?id=1W3BRgpsFN3E2q1vJ5Wu3sb4XFWdiJfA5\n",
      "To: d:\\AI_Journey\\Machine_Learning_Journey\\College_ML\\winequality-red.csv\n",
      "100%|██████████| 84.2k/84.2k [00:00<00:00, 2.38MB/s]\n",
      "Downloading...\n",
      "From: https://drive.google.com/uc?id=1HYLKbHlKrLQdZx74zEyOMxvMgVDAk0G2\n",
      "To: d:\\AI_Journey\\Machine_Learning_Journey\\College_ML\\winequality-white.csv\n",
      "100%|██████████| 264k/264k [00:00<00:00, 1.52MB/s]\n"
     ]
    }
   ],
   "source": [
    "import pandas as pd\n",
    "%pip install gdown\n",
    "import gdown, os\n",
    "\n",
    "## Download Data dari GDRIVE\n",
    "file_ids = [\n",
    "    \"1W3BRgpsFN3E2q1vJ5Wu3sb4XFWdiJfA5\", ## RED WINE\n",
    "    \"1HYLKbHlKrLQdZx74zEyOMxvMgVDAk0G2\" ## WHITE WINE\n",
    "]\n",
    "\n",
    "os.makedirs(\"DATA\", exist_ok=True)\n",
    "\n",
    "for file_id in file_ids:\n",
    "    output_path = gdown.download(f\"https://drive.google.com/uc?id={file_id}\", quiet=False)\n",
    "    os.rename(output_path, f\"DATA/{output_path}\")\n"
   ]
  },
  {
   "cell_type": "code",
   "execution_count": 2,
   "metadata": {
    "colab": {
     "base_uri": "https://localhost:8080/",
     "height": 206
    },
    "execution": {
     "iopub.execute_input": "2025-09-10T06:52:54.151280Z",
     "iopub.status.busy": "2025-09-10T06:52:54.150872Z",
     "iopub.status.idle": "2025-09-10T06:52:54.192551Z",
     "shell.execute_reply": "2025-09-10T06:52:54.191138Z",
     "shell.execute_reply.started": "2025-09-10T06:52:54.151244Z"
    },
    "id": "IjC_ZUBHzJx3",
    "outputId": "58f3fe4d-1a58-48e6-8ee9-f620f9cf78d3",
    "trusted": true
   },
   "outputs": [
    {
     "data": {
      "text/html": [
       "<div>\n",
       "<style scoped>\n",
       "    .dataframe tbody tr th:only-of-type {\n",
       "        vertical-align: middle;\n",
       "    }\n",
       "\n",
       "    .dataframe tbody tr th {\n",
       "        vertical-align: top;\n",
       "    }\n",
       "\n",
       "    .dataframe thead th {\n",
       "        text-align: right;\n",
       "    }\n",
       "</style>\n",
       "<table border=\"1\" class=\"dataframe\">\n",
       "  <thead>\n",
       "    <tr style=\"text-align: right;\">\n",
       "      <th></th>\n",
       "      <th>fixed acidity</th>\n",
       "      <th>volatile acidity</th>\n",
       "      <th>citric acid</th>\n",
       "      <th>residual sugar</th>\n",
       "      <th>chlorides</th>\n",
       "      <th>free sulfur dioxide</th>\n",
       "      <th>total sulfur dioxide</th>\n",
       "      <th>density</th>\n",
       "      <th>pH</th>\n",
       "      <th>sulphates</th>\n",
       "      <th>alcohol</th>\n",
       "      <th>quality</th>\n",
       "    </tr>\n",
       "  </thead>\n",
       "  <tbody>\n",
       "    <tr>\n",
       "      <th>0</th>\n",
       "      <td>7.4</td>\n",
       "      <td>0.70</td>\n",
       "      <td>0.00</td>\n",
       "      <td>1.9</td>\n",
       "      <td>0.076</td>\n",
       "      <td>11.0</td>\n",
       "      <td>34.0</td>\n",
       "      <td>0.9978</td>\n",
       "      <td>3.51</td>\n",
       "      <td>0.56</td>\n",
       "      <td>9.4</td>\n",
       "      <td>5</td>\n",
       "    </tr>\n",
       "    <tr>\n",
       "      <th>1</th>\n",
       "      <td>7.8</td>\n",
       "      <td>0.88</td>\n",
       "      <td>0.00</td>\n",
       "      <td>2.6</td>\n",
       "      <td>0.098</td>\n",
       "      <td>25.0</td>\n",
       "      <td>67.0</td>\n",
       "      <td>0.9968</td>\n",
       "      <td>3.20</td>\n",
       "      <td>0.68</td>\n",
       "      <td>9.8</td>\n",
       "      <td>5</td>\n",
       "    </tr>\n",
       "    <tr>\n",
       "      <th>2</th>\n",
       "      <td>7.8</td>\n",
       "      <td>0.76</td>\n",
       "      <td>0.04</td>\n",
       "      <td>2.3</td>\n",
       "      <td>0.092</td>\n",
       "      <td>15.0</td>\n",
       "      <td>54.0</td>\n",
       "      <td>0.9970</td>\n",
       "      <td>3.26</td>\n",
       "      <td>0.65</td>\n",
       "      <td>9.8</td>\n",
       "      <td>5</td>\n",
       "    </tr>\n",
       "    <tr>\n",
       "      <th>3</th>\n",
       "      <td>11.2</td>\n",
       "      <td>0.28</td>\n",
       "      <td>0.56</td>\n",
       "      <td>1.9</td>\n",
       "      <td>0.075</td>\n",
       "      <td>17.0</td>\n",
       "      <td>60.0</td>\n",
       "      <td>0.9980</td>\n",
       "      <td>3.16</td>\n",
       "      <td>0.58</td>\n",
       "      <td>9.8</td>\n",
       "      <td>6</td>\n",
       "    </tr>\n",
       "    <tr>\n",
       "      <th>4</th>\n",
       "      <td>7.4</td>\n",
       "      <td>0.70</td>\n",
       "      <td>0.00</td>\n",
       "      <td>1.9</td>\n",
       "      <td>0.076</td>\n",
       "      <td>11.0</td>\n",
       "      <td>34.0</td>\n",
       "      <td>0.9978</td>\n",
       "      <td>3.51</td>\n",
       "      <td>0.56</td>\n",
       "      <td>9.4</td>\n",
       "      <td>5</td>\n",
       "    </tr>\n",
       "  </tbody>\n",
       "</table>\n",
       "</div>"
      ],
      "text/plain": [
       "   fixed acidity  volatile acidity  citric acid  residual sugar  chlorides  \\\n",
       "0            7.4              0.70         0.00             1.9      0.076   \n",
       "1            7.8              0.88         0.00             2.6      0.098   \n",
       "2            7.8              0.76         0.04             2.3      0.092   \n",
       "3           11.2              0.28         0.56             1.9      0.075   \n",
       "4            7.4              0.70         0.00             1.9      0.076   \n",
       "\n",
       "   free sulfur dioxide  total sulfur dioxide  density    pH  sulphates  \\\n",
       "0                 11.0                  34.0   0.9978  3.51       0.56   \n",
       "1                 25.0                  67.0   0.9968  3.20       0.68   \n",
       "2                 15.0                  54.0   0.9970  3.26       0.65   \n",
       "3                 17.0                  60.0   0.9980  3.16       0.58   \n",
       "4                 11.0                  34.0   0.9978  3.51       0.56   \n",
       "\n",
       "   alcohol  quality  \n",
       "0      9.4        5  \n",
       "1      9.8        5  \n",
       "2      9.8        5  \n",
       "3      9.8        6  \n",
       "4      9.4        5  "
      ]
     },
     "execution_count": 2,
     "metadata": {},
     "output_type": "execute_result"
    }
   ],
   "source": [
    "df_white = pd.read_csv(\"DATA/winequality-white.csv\", delimiter=\";\")\n",
    "df_red = pd.read_csv(\"DATA/winequality-red.csv\", delimiter=\";\")\n",
    "\n",
    "df = pd.concat([df_red, df_white], axis=0)\n",
    "df.head(5)"
   ]
  },
  {
   "cell_type": "code",
   "execution_count": 3,
   "metadata": {
    "colab": {
     "base_uri": "https://localhost:8080/"
    },
    "execution": {
     "iopub.execute_input": "2025-09-10T06:52:54.193743Z",
     "iopub.status.busy": "2025-09-10T06:52:54.193421Z",
     "iopub.status.idle": "2025-09-10T06:52:54.209822Z",
     "shell.execute_reply": "2025-09-10T06:52:54.207892Z",
     "shell.execute_reply.started": "2025-09-10T06:52:54.193717Z"
    },
    "id": "1AOZRovtzV-r",
    "outputId": "1701fd36-a88b-46b9-d51d-5c39f951f9df",
    "trusted": true
   },
   "outputs": [
    {
     "name": "stdout",
     "output_type": "stream",
     "text": [
      "<class 'pandas.core.frame.DataFrame'>\n",
      "Index: 6497 entries, 0 to 4897\n",
      "Data columns (total 12 columns):\n",
      " #   Column                Non-Null Count  Dtype  \n",
      "---  ------                --------------  -----  \n",
      " 0   fixed acidity         6497 non-null   float64\n",
      " 1   volatile acidity      6497 non-null   float64\n",
      " 2   citric acid           6497 non-null   float64\n",
      " 3   residual sugar        6497 non-null   float64\n",
      " 4   chlorides             6497 non-null   float64\n",
      " 5   free sulfur dioxide   6497 non-null   float64\n",
      " 6   total sulfur dioxide  6497 non-null   float64\n",
      " 7   density               6497 non-null   float64\n",
      " 8   pH                    6497 non-null   float64\n",
      " 9   sulphates             6497 non-null   float64\n",
      " 10  alcohol               6497 non-null   float64\n",
      " 11  quality               6497 non-null   int64  \n",
      "dtypes: float64(11), int64(1)\n",
      "memory usage: 659.9 KB\n"
     ]
    }
   ],
   "source": [
    "df.info()"
   ]
  },
  {
   "cell_type": "code",
   "execution_count": 4,
   "metadata": {
    "execution": {
     "iopub.execute_input": "2025-09-10T06:52:54.212818Z",
     "iopub.status.busy": "2025-09-10T06:52:54.212452Z",
     "iopub.status.idle": "2025-09-10T06:52:54.235947Z",
     "shell.execute_reply": "2025-09-10T06:52:54.234575Z",
     "shell.execute_reply.started": "2025-09-10T06:52:54.212791Z"
    },
    "trusted": true
   },
   "outputs": [
    {
     "name": "stdout",
     "output_type": "stream",
     "text": [
      "fixed acidity           0\n",
      "volatile acidity        0\n",
      "citric acid             0\n",
      "residual sugar          0\n",
      "chlorides               0\n",
      "free sulfur dioxide     0\n",
      "total sulfur dioxide    0\n",
      "density                 0\n",
      "pH                      0\n",
      "sulphates               0\n",
      "alcohol                 0\n",
      "quality                 0\n",
      "dtype: int64\n"
     ]
    }
   ],
   "source": [
    "##CEK NUll\n",
    "print(df.isnull().sum())"
   ]
  },
  {
   "cell_type": "code",
   "execution_count": 5,
   "metadata": {
    "colab": {
     "base_uri": "https://localhost:8080/"
    },
    "execution": {
     "iopub.execute_input": "2025-09-10T06:52:54.237939Z",
     "iopub.status.busy": "2025-09-10T06:52:54.237500Z",
     "iopub.status.idle": "2025-09-10T06:52:54.263868Z",
     "shell.execute_reply": "2025-09-10T06:52:54.262129Z",
     "shell.execute_reply.started": "2025-09-10T06:52:54.237913Z"
    },
    "id": "ToJeNcUu2O60",
    "outputId": "5c0e906a-1d50-4ecc-a21b-8a151d733428",
    "trusted": true
   },
   "outputs": [
    {
     "name": "stdout",
     "output_type": "stream",
     "text": [
      "Wine Quality Distribution:\n",
      "quality\n",
      "3      30\n",
      "4     216\n",
      "5    2138\n",
      "6    2836\n",
      "7    1079\n",
      "8     193\n",
      "9       5\n",
      "Name: count, dtype: int64\n"
     ]
    }
   ],
   "source": [
    "## Cek Distribusi Quality Wine\n",
    "print(\"Wine Quality Distribution:\")\n",
    "print(df[\"quality\"].value_counts().sort_index())"
   ]
  },
  {
   "cell_type": "markdown",
   "metadata": {},
   "source": [
    "Since the distribution is unbalanced, we map it into 2 or 3 categories"
   ]
  },
  {
   "cell_type": "code",
   "execution_count": 6,
   "metadata": {
    "execution": {
     "iopub.execute_input": "2025-09-10T06:52:54.265489Z",
     "iopub.status.busy": "2025-09-10T06:52:54.265175Z",
     "iopub.status.idle": "2025-09-10T06:52:54.288850Z",
     "shell.execute_reply": "2025-09-10T06:52:54.287207Z",
     "shell.execute_reply.started": "2025-09-10T06:52:54.265463Z"
    },
    "id": "ptRoQFkf3KCv",
    "trusted": true
   },
   "outputs": [],
   "source": [
    "# def map_quality(q):\n",
    "#   if q <= 4:\n",
    "#     return 0 #Very Bad\n",
    "#   elif q <=6:\n",
    "#     return 1 #Average\n",
    "#   else:\n",
    "#     return 2 #Good\n",
    "\n",
    "def map_quality(q):\n",
    "  if q <= 6:\n",
    "    return 0 #Below Average\n",
    "  else:\n",
    "    return 1 #Above Average\n"
   ]
  },
  {
   "cell_type": "code",
   "execution_count": 7,
   "metadata": {
    "execution": {
     "iopub.execute_input": "2025-09-10T06:52:54.291257Z",
     "iopub.status.busy": "2025-09-10T06:52:54.290871Z",
     "iopub.status.idle": "2025-09-10T06:52:54.314585Z",
     "shell.execute_reply": "2025-09-10T06:52:54.313128Z",
     "shell.execute_reply.started": "2025-09-10T06:52:54.291228Z"
    },
    "id": "xCSZTsBq3eDN",
    "trusted": true
   },
   "outputs": [],
   "source": [
    "df[\"quality_label\"] = df[\"quality\"].apply(map_quality)"
   ]
  },
  {
   "cell_type": "code",
   "execution_count": 8,
   "metadata": {
    "colab": {
     "base_uri": "https://localhost:8080/"
    },
    "execution": {
     "iopub.execute_input": "2025-09-10T06:52:54.316227Z",
     "iopub.status.busy": "2025-09-10T06:52:54.315866Z",
     "iopub.status.idle": "2025-09-10T06:52:54.352712Z",
     "shell.execute_reply": "2025-09-10T06:52:54.351587Z",
     "shell.execute_reply.started": "2025-09-10T06:52:54.316191Z"
    },
    "id": "HLOc618F3nES",
    "outputId": "6ecdbf11-8fbc-4903-e20a-c075d55cec5f",
    "trusted": true
   },
   "outputs": [
    {
     "name": "stdout",
     "output_type": "stream",
     "text": [
      "quality_label\n",
      "0    5220\n",
      "1    1277\n",
      "Name: count, dtype: int64\n",
      "<class 'pandas.core.frame.DataFrame'>\n",
      "Index: 6497 entries, 0 to 4897\n",
      "Data columns (total 12 columns):\n",
      " #   Column                Non-Null Count  Dtype  \n",
      "---  ------                --------------  -----  \n",
      " 0   fixed acidity         6497 non-null   float64\n",
      " 1   volatile acidity      6497 non-null   float64\n",
      " 2   citric acid           6497 non-null   float64\n",
      " 3   residual sugar        6497 non-null   float64\n",
      " 4   chlorides             6497 non-null   float64\n",
      " 5   free sulfur dioxide   6497 non-null   float64\n",
      " 6   total sulfur dioxide  6497 non-null   float64\n",
      " 7   density               6497 non-null   float64\n",
      " 8   pH                    6497 non-null   float64\n",
      " 9   sulphates             6497 non-null   float64\n",
      " 10  alcohol               6497 non-null   float64\n",
      " 11  quality_label         6497 non-null   int64  \n",
      "dtypes: float64(11), int64(1)\n",
      "memory usage: 659.9 KB\n"
     ]
    }
   ],
   "source": [
    "print(df[\"quality_label\"].value_counts().sort_index())\n",
    "df.drop(\"quality\", axis=1, inplace=True)\n",
    "df.info()"
   ]
  },
  {
   "cell_type": "markdown",
   "metadata": {},
   "source": [
    "Split training data, in this case we do a 80/20 split"
   ]
  },
  {
   "cell_type": "code",
   "execution_count": 9,
   "metadata": {
    "execution": {
     "iopub.execute_input": "2025-09-10T06:52:54.353919Z",
     "iopub.status.busy": "2025-09-10T06:52:54.353665Z",
     "iopub.status.idle": "2025-09-10T06:52:54.375043Z",
     "shell.execute_reply": "2025-09-10T06:52:54.373668Z",
     "shell.execute_reply.started": "2025-09-10T06:52:54.353899Z"
    },
    "id": "UzIehgQ238gu",
    "trusted": true
   },
   "outputs": [],
   "source": [
    "from sklearn.model_selection import train_test_split\n",
    "\n",
    "x = df.drop(\"quality_label\", axis=1)\n",
    "y = df[\"quality_label\"]\n",
    "\n",
    "X_train, X_test, y_train, y_test = train_test_split(x,y, test_size=0.2, random_state=42)\n"
   ]
  },
  {
   "cell_type": "markdown",
   "metadata": {},
   "source": [
    "Tried 3 NaiveBayes models to demonstrate how each model would perform on a continuous data"
   ]
  },
  {
   "cell_type": "code",
   "execution_count": 10,
   "metadata": {
    "execution": {
     "iopub.execute_input": "2025-09-10T06:52:54.379696Z",
     "iopub.status.busy": "2025-09-10T06:52:54.379343Z",
     "iopub.status.idle": "2025-09-10T06:52:54.538556Z",
     "shell.execute_reply": "2025-09-10T06:52:54.537763Z",
     "shell.execute_reply.started": "2025-09-10T06:52:54.379671Z"
    },
    "trusted": true
   },
   "outputs": [],
   "source": [
    "from sklearn.pipeline import Pipeline\n",
    "from sklearn.preprocessing import StandardScaler, MinMaxScaler, KBinsDiscretizer, Binarizer\n",
    "from sklearn.naive_bayes import GaussianNB, MultinomialNB, BernoulliNB\n",
    "from sklearn.metrics import accuracy_score, classification_report, confusion_matrix,ConfusionMatrixDisplay\n",
    "\n",
    "# GaussianNB\n",
    "pipe_g = Pipeline([\n",
    "    ('scale', StandardScaler()),\n",
    "    ('clf', GaussianNB())\n",
    "])\n",
    "pipe_g.fit(X_train, y_train)\n",
    "g_pred = pipe_g.predict(X_test)\n",
    "\n",
    "# MultinomialNB (scale to [0,1])\n",
    "pipe_m = Pipeline([\n",
    "    ('minmax', MinMaxScaler()),\n",
    "    ('clf', MultinomialNB())\n",
    "])\n",
    "pipe_m.fit(X_train, y_train)\n",
    "m_pred = pipe_m.predict(X_test)\n",
    "\n",
    "# BernoulliNB (binarize features)\n",
    "pipe_b = Pipeline([\n",
    "    ('bin', Binarizer(threshold=X_train.mean().mean())),\n",
    "    ('clf', BernoulliNB())\n",
    "])\n",
    "pipe_b.fit(X_train, y_train)\n",
    "b_pred = pipe_b.predict(X_test)\n",
    "\n",
    "\n",
    "from sklearn.linear_model import LogisticRegression\n",
    "\n",
    "\n",
    "pipe_l = Pipeline([\n",
    "    ('scale', StandardScaler()),\n",
    "    ('clf', LogisticRegression())\n",
    "])\n",
    "pipe_l.fit(X_train, y_train)\n",
    "l_pred = pipe_l.predict(X_test)"
   ]
  },
  {
   "cell_type": "code",
   "execution_count": 11,
   "metadata": {
    "execution": {
     "iopub.execute_input": "2025-09-10T06:52:54.541985Z",
     "iopub.status.busy": "2025-09-10T06:52:54.539436Z",
     "iopub.status.idle": "2025-09-10T06:52:54.573201Z",
     "shell.execute_reply": "2025-09-10T06:52:54.572404Z",
     "shell.execute_reply.started": "2025-09-10T06:52:54.541942Z"
    },
    "trusted": true
   },
   "outputs": [
    {
     "name": "stdout",
     "output_type": "stream",
     "text": [
      "                 Model  Accuracy\n",
      "0  Logistic Regression  0.824615\n",
      "1        MultinomialNB  0.806154\n",
      "2          BernoulliNB  0.805385\n",
      "3           GaussianNB  0.760769\n",
      "\n",
      "GaussianNB Report:\n",
      "               precision    recall  f1-score   support\n",
      "\n",
      "           0       0.90      0.79      0.84      1048\n",
      "           1       0.42      0.64      0.51       252\n",
      "\n",
      "    accuracy                           0.76      1300\n",
      "   macro avg       0.66      0.72      0.68      1300\n",
      "weighted avg       0.81      0.76      0.78      1300\n",
      "\n"
     ]
    }
   ],
   "source": [
    "import pandas as pd\n",
    "\n",
    "results = [\n",
    "    (\"GaussianNB\", accuracy_score(y_test, g_pred)),\n",
    "    (\"MultinomialNB\", accuracy_score(y_test, m_pred)),\n",
    "    (\"BernoulliNB\", accuracy_score(y_test, b_pred)),\n",
    "    (\"Logistic Regression\", accuracy_score(y_test,l_pred))\n",
    "]\n",
    "\n",
    "summary = pd.DataFrame(results, columns=['Model', 'Accuracy']) \\\n",
    "            .sort_values('Accuracy', ascending=False).reset_index(drop=True)\n",
    "\n",
    "print(summary)\n",
    "print(\"\\nGaussianNB Report:\\n\", classification_report(y_test, g_pred))\n"
   ]
  },
  {
   "cell_type": "code",
   "execution_count": 12,
   "metadata": {
    "execution": {
     "iopub.execute_input": "2025-09-10T06:52:54.575237Z",
     "iopub.status.busy": "2025-09-10T06:52:54.574594Z",
     "iopub.status.idle": "2025-09-10T06:52:54.581115Z",
     "shell.execute_reply": "2025-09-10T06:52:54.580273Z",
     "shell.execute_reply.started": "2025-09-10T06:52:54.575209Z"
    },
    "trusted": true
   },
   "outputs": [],
   "source": [
    "models = {\n",
    "    \"GaussianNB\":   {\"pipe\": pipe_g, \"y_pred\": g_pred},\n",
    "    \"MultinomialNB\":{\"pipe\": pipe_m, \"y_pred\": m_pred},\n",
    "    \"BernoulliNB\":  {\"pipe\": pipe_b, \"y_pred\": b_pred},\n",
    "    \"LogisticRegression\": {\"pipe\": pipe_l, \"y_pred\" : l_pred},\n",
    "}"
   ]
  },
  {
   "cell_type": "code",
   "execution_count": 13,
   "metadata": {
    "execution": {
     "iopub.execute_input": "2025-09-10T06:52:54.584154Z",
     "iopub.status.busy": "2025-09-10T06:52:54.583833Z",
     "iopub.status.idle": "2025-09-10T06:52:54.801988Z",
     "shell.execute_reply": "2025-09-10T06:52:54.800820Z",
     "shell.execute_reply.started": "2025-09-10T06:52:54.584131Z"
    },
    "trusted": true
   },
   "outputs": [
    {
     "data": {
      "image/png": "[encoded data removed]",
      "text/plain": [
       "<Figure size 600x400 with 1 Axes>"
      ]
     },
     "metadata": {},
     "output_type": "display_data"
    }
   ],
   "source": [
    "import matplotlib.pyplot as plt\n",
    "\n",
    "accs = {name: accuracy_score(y_test, m[\"y_pred\"]) for name, m in models.items()}\n",
    "\n",
    "plt.figure(figsize=(6,4))\n",
    "names, vals = zip(*accs.items())\n",
    "bars = plt.bar(names, vals)\n",
    "for b, v in zip(bars, vals):\n",
    "    plt.text(b.get_x() + b.get_width()/2, v + 0.005, f\"{v:.3f}\", ha=\"center\", fontsize=10)\n",
    "plt.ylim(0, 1.05)\n",
    "plt.ylabel(\"Accuracy\")\n",
    "plt.title(\"Naive Bayes Models + LogisticReg — Accuracy\")\n",
    "plt.tight_layout()\n",
    "plt.show()"
   ]
  },
  {
   "cell_type": "code",
   "execution_count": 14,
   "metadata": {
    "execution": {
     "iopub.execute_input": "2025-09-10T06:53:17.244194Z",
     "iopub.status.busy": "2025-09-10T06:53:17.243848Z",
     "iopub.status.idle": "2025-09-10T06:53:17.627784Z",
     "shell.execute_reply": "2025-09-10T06:53:17.626502Z",
     "shell.execute_reply.started": "2025-09-10T06:53:17.244168Z"
    },
    "id": "d3QKrxlj6gNs",
    "trusted": true
   },
   "outputs": [
    {
     "data": {
      "image/png": "[encoded data removed]",
      "text/plain": [
       "<Figure size 1200x360 with 4 Axes>"
      ]
     },
     "metadata": {},
     "output_type": "display_data"
    }
   ],
   "source": [
    "fig, axes = plt.subplots(1, 4, figsize=(12, 3.6))\n",
    "for ax, (name, m) in zip(axes, models.items()):\n",
    "    cm = confusion_matrix(y_test, m[\"y_pred\"])\n",
    "    disp = ConfusionMatrixDisplay(cm)\n",
    "    disp.plot(ax=ax, colorbar=False)\n",
    "    ax.set_title(name)\n",
    "plt.tight_layout()\n",
    "plt.show()"
   ]
  },
  {
   "cell_type": "markdown",
   "metadata": {},
   "source": [
    "**MultinomialNB and BernoulliNB** look better in terms of accuracy, but that’s just because \n",
    "1) The dataset is imbalanced and the scaling/binarization distorts continuous features. They default to predicting the majority class\n",
    "2) MultinomialNB is designed for non-negative integer counts (like word frequencies in text), and BernoulliNB is designed for binary yes/no features (like presence of a word in an email).\n",
    "\n",
    "<br>\n",
    "\n",
    "**GaussianNB**, on the other hand, actually tries to separate the classes. Even if the accuracy is lower, it gives more meaningful predictions. And with techniques like resampling or feature engineering, we could improve its performance further."
   ]
  }
 ],
 "metadata": {
  "colab": {
   "provenance": []
  },
  "kaggle": {
   "accelerator": "none",
   "dataSources": [],
   "dockerImageVersionId": 31089,
   "isGpuEnabled": false,
   "isInternetEnabled": true,
   "language": "python",
   "sourceType": "notebook"
  },
  "kernelspec": {
   "display_name": "ML (3.12.4)",
   "language": "python",
   "name": "python3"
  },
  "language_info": {
   "codemirror_mode": {
    "name": "ipython",
    "version": 3
   },
   "file_extension": ".py",
   "mimetype": "text/x-python",
   "name": "python",
   "nbconvert_exporter": "python",
   "pygments_lexer": "ipython3",
   "version": "3.12.4"
  }
 },
 "nbformat": 4,
 "nbformat_minor": 4
}
