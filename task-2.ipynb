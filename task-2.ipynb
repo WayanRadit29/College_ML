{
 "cells": [
  {
   "cell_type": "markdown",
   "metadata": {},
   "source": [
    "### Tahapan Preprocessing\n",
    "1. **Load dataset** (wine merah + putih).  \n",
    "2. **Menangani Outlier** dengan metode IQR → supaya nilai ekstrim tidak mengganggu distribusi data.  \n",
    "3. **Feature Engineering**: menambahkan fitur baru `sugar_ratio = residual sugar / density`.  \n",
    "4. **Mapping Target (quality → binary)**:  \n",
    "   - 0 = Tidak Bagus (quality ≤ 6)  \n",
    "   - 1 = Bagus (quality ≥ 7)  \n",
    "5. **Membagi data** menjadi train & test.  \n",
    "6. **Scaling fitur** (fit hanya di data train, lalu transform ke data test).  \n",
    "7. **SMOTE balancing** pada data train agar kelas seimbang.  \n"
   ]
  },
  {
   "cell_type": "code",
   "execution_count": 55,
   "metadata": {},
   "outputs": [],
   "source": [
    "import pandas as pd "
   ]
  },
  {
   "cell_type": "code",
   "execution_count": 56,
   "metadata": {
    "colab": {
     "base_uri": "https://localhost:8080/",
     "height": 206
    },
    "execution": {
     "iopub.execute_input": "2025-09-10T06:52:54.151280Z",
     "iopub.status.busy": "2025-09-10T06:52:54.150872Z",
     "iopub.status.idle": "2025-09-10T06:52:54.192551Z",
     "shell.execute_reply": "2025-09-10T06:52:54.191138Z",
     "shell.execute_reply.started": "2025-09-10T06:52:54.151244Z"
    },
    "id": "IjC_ZUBHzJx3",
    "outputId": "58f3fe4d-1a58-48e6-8ee9-f620f9cf78d3",
    "trusted": true
   },
   "outputs": [
    {
     "data": {
      "text/html": [
       "<div>\n",
       "<style scoped>\n",
       "    .dataframe tbody tr th:only-of-type {\n",
       "        vertical-align: middle;\n",
       "    }\n",
       "\n",
       "    .dataframe tbody tr th {\n",
       "        vertical-align: top;\n",
       "    }\n",
       "\n",
       "    .dataframe thead th {\n",
       "        text-align: right;\n",
       "    }\n",
       "</style>\n",
       "<table border=\"1\" class=\"dataframe\">\n",
       "  <thead>\n",
       "    <tr style=\"text-align: right;\">\n",
       "      <th></th>\n",
       "      <th>fixed acidity</th>\n",
       "      <th>volatile acidity</th>\n",
       "      <th>citric acid</th>\n",
       "      <th>residual sugar</th>\n",
       "      <th>chlorides</th>\n",
       "      <th>free sulfur dioxide</th>\n",
       "      <th>total sulfur dioxide</th>\n",
       "      <th>density</th>\n",
       "      <th>pH</th>\n",
       "      <th>sulphates</th>\n",
       "      <th>alcohol</th>\n",
       "      <th>quality</th>\n",
       "    </tr>\n",
       "  </thead>\n",
       "  <tbody>\n",
       "    <tr>\n",
       "      <th>0</th>\n",
       "      <td>7.4</td>\n",
       "      <td>0.70</td>\n",
       "      <td>0.00</td>\n",
       "      <td>1.9</td>\n",
       "      <td>0.076</td>\n",
       "      <td>11.0</td>\n",
       "      <td>34.0</td>\n",
       "      <td>0.9978</td>\n",
       "      <td>3.51</td>\n",
       "      <td>0.56</td>\n",
       "      <td>9.4</td>\n",
       "      <td>5</td>\n",
       "    </tr>\n",
       "    <tr>\n",
       "      <th>1</th>\n",
       "      <td>7.8</td>\n",
       "      <td>0.88</td>\n",
       "      <td>0.00</td>\n",
       "      <td>2.6</td>\n",
       "      <td>0.098</td>\n",
       "      <td>25.0</td>\n",
       "      <td>67.0</td>\n",
       "      <td>0.9968</td>\n",
       "      <td>3.20</td>\n",
       "      <td>0.68</td>\n",
       "      <td>9.8</td>\n",
       "      <td>5</td>\n",
       "    </tr>\n",
       "    <tr>\n",
       "      <th>2</th>\n",
       "      <td>7.8</td>\n",
       "      <td>0.76</td>\n",
       "      <td>0.04</td>\n",
       "      <td>2.3</td>\n",
       "      <td>0.092</td>\n",
       "      <td>15.0</td>\n",
       "      <td>54.0</td>\n",
       "      <td>0.9970</td>\n",
       "      <td>3.26</td>\n",
       "      <td>0.65</td>\n",
       "      <td>9.8</td>\n",
       "      <td>5</td>\n",
       "    </tr>\n",
       "    <tr>\n",
       "      <th>3</th>\n",
       "      <td>11.2</td>\n",
       "      <td>0.28</td>\n",
       "      <td>0.56</td>\n",
       "      <td>1.9</td>\n",
       "      <td>0.075</td>\n",
       "      <td>17.0</td>\n",
       "      <td>60.0</td>\n",
       "      <td>0.9980</td>\n",
       "      <td>3.16</td>\n",
       "      <td>0.58</td>\n",
       "      <td>9.8</td>\n",
       "      <td>6</td>\n",
       "    </tr>\n",
       "    <tr>\n",
       "      <th>4</th>\n",
       "      <td>7.4</td>\n",
       "      <td>0.70</td>\n",
       "      <td>0.00</td>\n",
       "      <td>1.9</td>\n",
       "      <td>0.076</td>\n",
       "      <td>11.0</td>\n",
       "      <td>34.0</td>\n",
       "      <td>0.9978</td>\n",
       "      <td>3.51</td>\n",
       "      <td>0.56</td>\n",
       "      <td>9.4</td>\n",
       "      <td>5</td>\n",
       "    </tr>\n",
       "  </tbody>\n",
       "</table>\n",
       "</div>"
      ],
      "text/plain": [
       "   fixed acidity  volatile acidity  citric acid  residual sugar  chlorides  \\\n",
       "0            7.4              0.70         0.00             1.9      0.076   \n",
       "1            7.8              0.88         0.00             2.6      0.098   \n",
       "2            7.8              0.76         0.04             2.3      0.092   \n",
       "3           11.2              0.28         0.56             1.9      0.075   \n",
       "4            7.4              0.70         0.00             1.9      0.076   \n",
       "\n",
       "   free sulfur dioxide  total sulfur dioxide  density    pH  sulphates  \\\n",
       "0                 11.0                  34.0   0.9978  3.51       0.56   \n",
       "1                 25.0                  67.0   0.9968  3.20       0.68   \n",
       "2                 15.0                  54.0   0.9970  3.26       0.65   \n",
       "3                 17.0                  60.0   0.9980  3.16       0.58   \n",
       "4                 11.0                  34.0   0.9978  3.51       0.56   \n",
       "\n",
       "   alcohol  quality  \n",
       "0      9.4        5  \n",
       "1      9.8        5  \n",
       "2      9.8        5  \n",
       "3      9.8        6  \n",
       "4      9.4        5  "
      ]
     },
     "execution_count": 56,
     "metadata": {},
     "output_type": "execute_result"
    }
   ],
   "source": [
    "df_white = pd.read_csv(\"winequality-white.csv\", delimiter=\";\")\n",
    "df_red = pd.read_csv(\"winequality-red.csv\", delimiter=\";\")\n",
    "\n",
    "df = pd.concat([df_red, df_white], axis=0)\n",
    "df.head(5)"
   ]
  },
  {
   "cell_type": "code",
   "execution_count": 57,
   "metadata": {
    "colab": {
     "base_uri": "https://localhost:8080/"
    },
    "execution": {
     "iopub.execute_input": "2025-09-10T06:52:54.193743Z",
     "iopub.status.busy": "2025-09-10T06:52:54.193421Z",
     "iopub.status.idle": "2025-09-10T06:52:54.209822Z",
     "shell.execute_reply": "2025-09-10T06:52:54.207892Z",
     "shell.execute_reply.started": "2025-09-10T06:52:54.193717Z"
    },
    "id": "1AOZRovtzV-r",
    "outputId": "1701fd36-a88b-46b9-d51d-5c39f951f9df",
    "trusted": true
   },
   "outputs": [
    {
     "name": "stdout",
     "output_type": "stream",
     "text": [
      "<class 'pandas.core.frame.DataFrame'>\n",
      "Index: 6497 entries, 0 to 4897\n",
      "Data columns (total 12 columns):\n",
      " #   Column                Non-Null Count  Dtype  \n",
      "---  ------                --------------  -----  \n",
      " 0   fixed acidity         6497 non-null   float64\n",
      " 1   volatile acidity      6497 non-null   float64\n",
      " 2   citric acid           6497 non-null   float64\n",
      " 3   residual sugar        6497 non-null   float64\n",
      " 4   chlorides             6497 non-null   float64\n",
      " 5   free sulfur dioxide   6497 non-null   float64\n",
      " 6   total sulfur dioxide  6497 non-null   float64\n",
      " 7   density               6497 non-null   float64\n",
      " 8   pH                    6497 non-null   float64\n",
      " 9   sulphates             6497 non-null   float64\n",
      " 10  alcohol               6497 non-null   float64\n",
      " 11  quality               6497 non-null   int64  \n",
      "dtypes: float64(11), int64(1)\n",
      "memory usage: 659.9 KB\n"
     ]
    }
   ],
   "source": [
    "df.info()"
   ]
  },
  {
   "cell_type": "code",
   "execution_count": 58,
   "metadata": {
    "execution": {
     "iopub.execute_input": "2025-09-10T06:52:54.212818Z",
     "iopub.status.busy": "2025-09-10T06:52:54.212452Z",
     "iopub.status.idle": "2025-09-10T06:52:54.235947Z",
     "shell.execute_reply": "2025-09-10T06:52:54.234575Z",
     "shell.execute_reply.started": "2025-09-10T06:52:54.212791Z"
    },
    "trusted": true
   },
   "outputs": [
    {
     "name": "stdout",
     "output_type": "stream",
     "text": [
      "fixed acidity           0\n",
      "volatile acidity        0\n",
      "citric acid             0\n",
      "residual sugar          0\n",
      "chlorides               0\n",
      "free sulfur dioxide     0\n",
      "total sulfur dioxide    0\n",
      "density                 0\n",
      "pH                      0\n",
      "sulphates               0\n",
      "alcohol                 0\n",
      "quality                 0\n",
      "dtype: int64\n"
     ]
    }
   ],
   "source": [
    "##CEK NUll\n",
    "print(df.isnull().sum())"
   ]
  },
  {
   "cell_type": "code",
   "execution_count": 59,
   "metadata": {
    "colab": {
     "base_uri": "https://localhost:8080/"
    },
    "execution": {
     "iopub.execute_input": "2025-09-10T06:52:54.237939Z",
     "iopub.status.busy": "2025-09-10T06:52:54.237500Z",
     "iopub.status.idle": "2025-09-10T06:52:54.263868Z",
     "shell.execute_reply": "2025-09-10T06:52:54.262129Z",
     "shell.execute_reply.started": "2025-09-10T06:52:54.237913Z"
    },
    "id": "ToJeNcUu2O60",
    "outputId": "5c0e906a-1d50-4ecc-a21b-8a151d733428",
    "trusted": true
   },
   "outputs": [
    {
     "name": "stdout",
     "output_type": "stream",
     "text": [
      "Wine Quality Distribution:\n",
      "quality\n",
      "3      30\n",
      "4     216\n",
      "5    2138\n",
      "6    2836\n",
      "7    1079\n",
      "8     193\n",
      "9       5\n",
      "Name: count, dtype: int64\n"
     ]
    }
   ],
   "source": [
    "## Cek Distribusi Quality Wine\n",
    "print(\"Wine Quality Distribution:\")\n",
    "print(df[\"quality\"].value_counts().sort_index())"
   ]
  },
  {
   "cell_type": "code",
   "execution_count": 60,
   "metadata": {},
   "outputs": [
    {
     "name": "stdout",
     "output_type": "stream",
     "text": [
      "Outlier sudah ditangani.\n"
     ]
    },
    {
     "data": {
      "text/html": [
       "<div>\n",
       "<style scoped>\n",
       "    .dataframe tbody tr th:only-of-type {\n",
       "        vertical-align: middle;\n",
       "    }\n",
       "\n",
       "    .dataframe tbody tr th {\n",
       "        vertical-align: top;\n",
       "    }\n",
       "\n",
       "    .dataframe thead th {\n",
       "        text-align: right;\n",
       "    }\n",
       "</style>\n",
       "<table border=\"1\" class=\"dataframe\">\n",
       "  <thead>\n",
       "    <tr style=\"text-align: right;\">\n",
       "      <th></th>\n",
       "      <th>fixed acidity</th>\n",
       "      <th>volatile acidity</th>\n",
       "      <th>citric acid</th>\n",
       "      <th>residual sugar</th>\n",
       "      <th>chlorides</th>\n",
       "      <th>free sulfur dioxide</th>\n",
       "      <th>total sulfur dioxide</th>\n",
       "      <th>density</th>\n",
       "      <th>pH</th>\n",
       "      <th>sulphates</th>\n",
       "      <th>alcohol</th>\n",
       "      <th>quality</th>\n",
       "    </tr>\n",
       "  </thead>\n",
       "  <tbody>\n",
       "    <tr>\n",
       "      <th>count</th>\n",
       "      <td>6497.000000</td>\n",
       "      <td>6497.000000</td>\n",
       "      <td>6497.000000</td>\n",
       "      <td>6497.000000</td>\n",
       "      <td>6497.000000</td>\n",
       "      <td>6497.000000</td>\n",
       "      <td>6497.000000</td>\n",
       "      <td>6497.000000</td>\n",
       "      <td>6497.000000</td>\n",
       "      <td>6497.000000</td>\n",
       "      <td>6497.000000</td>\n",
       "      <td>6497.000000</td>\n",
       "    </tr>\n",
       "    <tr>\n",
       "      <th>mean</th>\n",
       "      <td>7.142173</td>\n",
       "      <td>0.332612</td>\n",
       "      <td>0.316180</td>\n",
       "      <td>5.407727</td>\n",
       "      <td>0.053230</td>\n",
       "      <td>30.339541</td>\n",
       "      <td>115.671926</td>\n",
       "      <td>0.994689</td>\n",
       "      <td>3.217638</td>\n",
       "      <td>0.526667</td>\n",
       "      <td>10.491624</td>\n",
       "      <td>5.818378</td>\n",
       "    </tr>\n",
       "    <tr>\n",
       "      <th>std</th>\n",
       "      <td>1.066080</td>\n",
       "      <td>0.144376</td>\n",
       "      <td>0.131856</td>\n",
       "      <td>4.613702</td>\n",
       "      <td>0.021289</td>\n",
       "      <td>16.904806</td>\n",
       "      <td>56.256191</td>\n",
       "      <td>0.002942</td>\n",
       "      <td>0.157901</td>\n",
       "      <td>0.131196</td>\n",
       "      <td>1.192136</td>\n",
       "      <td>0.873255</td>\n",
       "    </tr>\n",
       "    <tr>\n",
       "      <th>min</th>\n",
       "      <td>4.450000</td>\n",
       "      <td>0.080000</td>\n",
       "      <td>0.040000</td>\n",
       "      <td>0.600000</td>\n",
       "      <td>0.009000</td>\n",
       "      <td>1.000000</td>\n",
       "      <td>6.000000</td>\n",
       "      <td>0.987110</td>\n",
       "      <td>2.795000</td>\n",
       "      <td>0.220000</td>\n",
       "      <td>8.000000</td>\n",
       "      <td>3.000000</td>\n",
       "    </tr>\n",
       "    <tr>\n",
       "      <th>25%</th>\n",
       "      <td>6.400000</td>\n",
       "      <td>0.230000</td>\n",
       "      <td>0.250000</td>\n",
       "      <td>1.800000</td>\n",
       "      <td>0.038000</td>\n",
       "      <td>17.000000</td>\n",
       "      <td>77.000000</td>\n",
       "      <td>0.992340</td>\n",
       "      <td>3.110000</td>\n",
       "      <td>0.430000</td>\n",
       "      <td>9.500000</td>\n",
       "      <td>5.000000</td>\n",
       "    </tr>\n",
       "    <tr>\n",
       "      <th>50%</th>\n",
       "      <td>7.000000</td>\n",
       "      <td>0.290000</td>\n",
       "      <td>0.310000</td>\n",
       "      <td>3.000000</td>\n",
       "      <td>0.047000</td>\n",
       "      <td>29.000000</td>\n",
       "      <td>118.000000</td>\n",
       "      <td>0.994890</td>\n",
       "      <td>3.210000</td>\n",
       "      <td>0.510000</td>\n",
       "      <td>10.300000</td>\n",
       "      <td>6.000000</td>\n",
       "    </tr>\n",
       "    <tr>\n",
       "      <th>75%</th>\n",
       "      <td>7.700000</td>\n",
       "      <td>0.400000</td>\n",
       "      <td>0.390000</td>\n",
       "      <td>8.100000</td>\n",
       "      <td>0.065000</td>\n",
       "      <td>41.000000</td>\n",
       "      <td>156.000000</td>\n",
       "      <td>0.996990</td>\n",
       "      <td>3.320000</td>\n",
       "      <td>0.600000</td>\n",
       "      <td>11.300000</td>\n",
       "      <td>6.000000</td>\n",
       "    </tr>\n",
       "    <tr>\n",
       "      <th>max</th>\n",
       "      <td>9.650000</td>\n",
       "      <td>0.655000</td>\n",
       "      <td>0.600000</td>\n",
       "      <td>17.550000</td>\n",
       "      <td>0.105500</td>\n",
       "      <td>77.000000</td>\n",
       "      <td>274.500000</td>\n",
       "      <td>1.003965</td>\n",
       "      <td>3.635000</td>\n",
       "      <td>0.855000</td>\n",
       "      <td>14.000000</td>\n",
       "      <td>9.000000</td>\n",
       "    </tr>\n",
       "  </tbody>\n",
       "</table>\n",
       "</div>"
      ],
      "text/plain": [
       "       fixed acidity  volatile acidity  citric acid  residual sugar  \\\n",
       "count    6497.000000       6497.000000  6497.000000     6497.000000   \n",
       "mean        7.142173          0.332612     0.316180        5.407727   \n",
       "std         1.066080          0.144376     0.131856        4.613702   \n",
       "min         4.450000          0.080000     0.040000        0.600000   \n",
       "25%         6.400000          0.230000     0.250000        1.800000   \n",
       "50%         7.000000          0.290000     0.310000        3.000000   \n",
       "75%         7.700000          0.400000     0.390000        8.100000   \n",
       "max         9.650000          0.655000     0.600000       17.550000   \n",
       "\n",
       "         chlorides  free sulfur dioxide  total sulfur dioxide      density  \\\n",
       "count  6497.000000          6497.000000           6497.000000  6497.000000   \n",
       "mean      0.053230            30.339541            115.671926     0.994689   \n",
       "std       0.021289            16.904806             56.256191     0.002942   \n",
       "min       0.009000             1.000000              6.000000     0.987110   \n",
       "25%       0.038000            17.000000             77.000000     0.992340   \n",
       "50%       0.047000            29.000000            118.000000     0.994890   \n",
       "75%       0.065000            41.000000            156.000000     0.996990   \n",
       "max       0.105500            77.000000            274.500000     1.003965   \n",
       "\n",
       "                pH    sulphates      alcohol      quality  \n",
       "count  6497.000000  6497.000000  6497.000000  6497.000000  \n",
       "mean      3.217638     0.526667    10.491624     5.818378  \n",
       "std       0.157901     0.131196     1.192136     0.873255  \n",
       "min       2.795000     0.220000     8.000000     3.000000  \n",
       "25%       3.110000     0.430000     9.500000     5.000000  \n",
       "50%       3.210000     0.510000    10.300000     6.000000  \n",
       "75%       3.320000     0.600000    11.300000     6.000000  \n",
       "max       3.635000     0.855000    14.000000     9.000000  "
      ]
     },
     "execution_count": 60,
     "metadata": {},
     "output_type": "execute_result"
    }
   ],
   "source": [
    "import numpy as np\n",
    "\n",
    "df_clean = df.copy()\n",
    "for col in df_clean.columns:\n",
    "    if col != \"quality\":  # skip kolom target\n",
    "        Q1 = df_clean[col].quantile(0.25)\n",
    "        Q3 = df_clean[col].quantile(0.75)\n",
    "        IQR = Q3 - Q1\n",
    "        lower_bound = Q1 - 1.5 * IQR\n",
    "        upper_bound = Q3 + 1.5 * IQR\n",
    "\n",
    "        # Winsorizing\n",
    "        df_clean[col] = np.where(\n",
    "            df_clean[col] < lower_bound, lower_bound,\n",
    "            np.where(df_clean[col] > upper_bound, upper_bound, df_clean[col])\n",
    "        )\n",
    "\n",
    "print(\"Outlier sudah ditangani.\")\n",
    "df_clean.describe()\n"
   ]
  },
  {
   "cell_type": "code",
   "execution_count": 61,
   "metadata": {},
   "outputs": [
    {
     "name": "stdout",
     "output_type": "stream",
     "text": [
      "Fitur sugar_ratio berhasil ditambahkan\n"
     ]
    },
    {
     "data": {
      "text/plain": [
       "<bound method NDFrame.head of       fixed acidity  volatile acidity  citric acid  residual sugar  chlorides  \\\n",
       "0              7.40             0.655         0.04             1.9      0.076   \n",
       "1              7.80             0.655         0.04             2.6      0.098   \n",
       "2              7.80             0.655         0.04             2.3      0.092   \n",
       "3              9.65             0.280         0.56             1.9      0.075   \n",
       "4              7.40             0.655         0.04             1.9      0.076   \n",
       "...             ...               ...          ...             ...        ...   \n",
       "4893           6.20             0.210         0.29             1.6      0.039   \n",
       "4894           6.60             0.320         0.36             8.0      0.047   \n",
       "4895           6.50             0.240         0.19             1.2      0.041   \n",
       "4896           5.50             0.290         0.30             1.1      0.022   \n",
       "4897           6.00             0.210         0.38             0.8      0.020   \n",
       "\n",
       "      free sulfur dioxide  total sulfur dioxide  density    pH  sulphates  \\\n",
       "0                    11.0                  34.0  0.99780  3.51       0.56   \n",
       "1                    25.0                  67.0  0.99680  3.20       0.68   \n",
       "2                    15.0                  54.0  0.99700  3.26       0.65   \n",
       "3                    17.0                  60.0  0.99800  3.16       0.58   \n",
       "4                    11.0                  34.0  0.99780  3.51       0.56   \n",
       "...                   ...                   ...      ...   ...        ...   \n",
       "4893                 24.0                  92.0  0.99114  3.27       0.50   \n",
       "4894                 57.0                 168.0  0.99490  3.15       0.46   \n",
       "4895                 30.0                 111.0  0.99254  2.99       0.46   \n",
       "4896                 20.0                 110.0  0.98869  3.34       0.38   \n",
       "4897                 22.0                  98.0  0.98941  3.26       0.32   \n",
       "\n",
       "      alcohol  quality  sugar_ratio  \n",
       "0         9.4        5     1.904189  \n",
       "1         9.8        5     2.608347  \n",
       "2         9.8        5     2.306921  \n",
       "3         9.8        6     1.903808  \n",
       "4         9.4        5     1.904189  \n",
       "...       ...      ...          ...  \n",
       "4893     11.2        6     1.614303  \n",
       "4894      9.6        5     8.041009  \n",
       "4895      9.4        6     1.209019  \n",
       "4896     12.8        7     1.112583  \n",
       "4897     11.8        6     0.808563  \n",
       "\n",
       "[6497 rows x 13 columns]>"
      ]
     },
     "execution_count": 61,
     "metadata": {},
     "output_type": "execute_result"
    }
   ],
   "source": [
    "df_clean[\"sugar_ratio\"] = df_clean[\"residual sugar\"] / df_clean[\"density\"]\n",
    "print(\"Fitur sugar_ratio berhasil ditambahkan\")\n",
    "df_clean.head"
   ]
  },
  {
   "cell_type": "code",
   "execution_count": 62,
   "metadata": {},
   "outputs": [
    {
     "name": "stdout",
     "output_type": "stream",
     "text": [
      "Distribusi kelas setelah mapping:\n",
      "quality_label\n",
      "0    5220\n",
      "1    1277\n",
      "Name: count, dtype: int64\n"
     ]
    }
   ],
   "source": [
    "def map_quality(q):\n",
    "    return 0 if q <= 6 else 1\n",
    "\n",
    "df_clean[\"quality_label\"] = df_clean[\"quality\"].apply(map_quality)\n",
    "df_clean.drop(\"quality\", axis=1, inplace=True)\n",
    "\n",
    "print(\"Distribusi kelas setelah mapping:\")\n",
    "print(df_clean[\"quality_label\"].value_counts())\n"
   ]
  },
  {
   "cell_type": "markdown",
   "metadata": {},
   "source": [
    "Since the distribution is unbalanced, we map it into 2 or 3 categories"
   ]
  },
  {
   "cell_type": "markdown",
   "metadata": {},
   "source": [
    "Split training data, in this case we do a 80/20 split"
   ]
  },
  {
   "cell_type": "code",
   "execution_count": 63,
   "metadata": {
    "execution": {
     "iopub.execute_input": "2025-09-10T06:52:54.353919Z",
     "iopub.status.busy": "2025-09-10T06:52:54.353665Z",
     "iopub.status.idle": "2025-09-10T06:52:54.375043Z",
     "shell.execute_reply": "2025-09-10T06:52:54.373668Z",
     "shell.execute_reply.started": "2025-09-10T06:52:54.353899Z"
    },
    "id": "UzIehgQ238gu",
    "trusted": true
   },
   "outputs": [
    {
     "name": "stdout",
     "output_type": "stream",
     "text": [
      "Distribusi kelas pada data train: [4176 1021]\n",
      "Distribusi kelas pada data test : [1044  256]\n"
     ]
    }
   ],
   "source": [
    "from sklearn.model_selection import train_test_split\n",
    "\n",
    "X = df_clean.drop(\"quality_label\", axis=1)\n",
    "y = df_clean[\"quality_label\"]\n",
    "\n",
    "X_train, X_test, y_train, y_test = train_test_split(\n",
    "    X, y, test_size=0.2, random_state=42, stratify=y\n",
    ")\n",
    "\n",
    "print(\"Distribusi kelas pada data train:\", np.bincount(y_train))\n",
    "print(\"Distribusi kelas pada data test :\", np.bincount(y_test))\n"
   ]
  },
  {
   "cell_type": "markdown",
   "metadata": {},
   "source": [
    "Tried 3 NaiveBayes models to demonstrate how each model would perform on a continuous data"
   ]
  },
  {
   "cell_type": "code",
   "execution_count": null,
   "metadata": {
    "execution": {
     "iopub.execute_input": "2025-09-10T06:52:54.379696Z",
     "iopub.status.busy": "2025-09-10T06:52:54.379343Z",
     "iopub.status.idle": "2025-09-10T06:52:54.538556Z",
     "shell.execute_reply": "2025-09-10T06:52:54.537763Z",
     "shell.execute_reply.started": "2025-09-10T06:52:54.379671Z"
    },
    "trusted": true
   },
   "outputs": [],
   "source": [
    "from imblearn.pipeline import Pipeline   # gunakan imblearn\n",
    "from imblearn.over_sampling import SMOTE\n",
    "from sklearn.preprocessing import StandardScaler, MinMaxScaler, Binarizer\n",
    "from sklearn.naive_bayes import GaussianNB, MultinomialNB, BernoulliNB\n",
    "from sklearn.linear_model import LogisticRegression\n",
    "from sklearn.metrics import accuracy_score\n",
    "\n",
    "\n",
    "pipe_g = Pipeline([\n",
    "    ('scale', StandardScaler()),\n",
    "    ('smote', SMOTE(random_state=42)),   # tambahin SMOTE\n",
    "    ('clf', GaussianNB())\n",
    "])\n",
    "pipe_g.fit(X_train, y_train)\n",
    "g_pred = pipe_g.predict(X_test)\n",
    "\n",
    "\n",
    "pipe_m = Pipeline([\n",
    "    ('minmax', MinMaxScaler()),          # fitur ke [0,1]\n",
    "    ('smote', SMOTE(random_state=42)),\n",
    "    ('clf', MultinomialNB())\n",
    "])\n",
    "pipe_m.fit(X_train, y_train)\n",
    "m_pred = pipe_m.predict(X_test)\n",
    "\n",
    "\n",
    "pipe_b = Pipeline([\n",
    "    ('bin', Binarizer(threshold=X_train.mean().mean())),  # binarisasi fitur\n",
    "    ('smote', SMOTE(random_state=42)),\n",
    "    ('clf', BernoulliNB())\n",
    "])\n",
    "pipe_b.fit(X_train, y_train)\n",
    "b_pred = pipe_b.predict(X_test)\n",
    "\n",
    "\n",
    "pipe_l = Pipeline([\n",
    "    ('scale', StandardScaler()),\n",
    "    ('smote', SMOTE(random_state=42)),\n",
    "    ('clf', LogisticRegression(max_iter=1000))\n",
    "])\n",
    "pipe_l.fit(X_train, y_train)\n",
    "l_pred = pipe_l.predict(X_test)\n"
   ]
  },
  {
   "cell_type": "code",
   "execution_count": 65,
   "metadata": {
    "execution": {
     "iopub.execute_input": "2025-09-10T06:52:54.541985Z",
     "iopub.status.busy": "2025-09-10T06:52:54.539436Z",
     "iopub.status.idle": "2025-09-10T06:52:54.573201Z",
     "shell.execute_reply": "2025-09-10T06:52:54.572404Z",
     "shell.execute_reply.started": "2025-09-10T06:52:54.541942Z"
    },
    "trusted": true
   },
   "outputs": [
    {
     "name": "stdout",
     "output_type": "stream",
     "text": [
      "=== Ringkasan Akurasi ===\n",
      "                 Model  Accuracy\n",
      "0  Logistic Regression  0.710000\n",
      "1        MultinomialNB  0.699231\n",
      "2           GaussianNB  0.676923\n",
      "3          BernoulliNB  0.357692\n",
      "\n",
      "=== GaussianNB Report ===\n",
      "              precision    recall  f1-score   support\n",
      "\n",
      "           0       0.91      0.66      0.77      1044\n",
      "           1       0.35      0.73      0.47       256\n",
      "\n",
      "    accuracy                           0.68      1300\n",
      "   macro avg       0.63      0.70      0.62      1300\n",
      "weighted avg       0.80      0.68      0.71      1300\n",
      "\n",
      "\n",
      "=== MultinomialNB Report ===\n",
      "              precision    recall  f1-score   support\n",
      "\n",
      "           0       0.92      0.69      0.79      1044\n",
      "           1       0.37      0.75      0.49       256\n",
      "\n",
      "    accuracy                           0.70      1300\n",
      "   macro avg       0.64      0.72      0.64      1300\n",
      "weighted avg       0.81      0.70      0.73      1300\n",
      "\n",
      "\n",
      "=== BernoulliNB Report ===\n",
      "              precision    recall  f1-score   support\n",
      "\n",
      "           0       0.84      0.25      0.38      1044\n",
      "           1       0.21      0.81      0.33       256\n",
      "\n",
      "    accuracy                           0.36      1300\n",
      "   macro avg       0.53      0.53      0.36      1300\n",
      "weighted avg       0.72      0.36      0.37      1300\n",
      "\n",
      "\n",
      "=== Logistic Regression Report ===\n",
      "              precision    recall  f1-score   support\n",
      "\n",
      "           0       0.91      0.71      0.80      1044\n",
      "           1       0.38      0.73      0.50       256\n",
      "\n",
      "    accuracy                           0.71      1300\n",
      "   macro avg       0.65      0.72      0.65      1300\n",
      "weighted avg       0.81      0.71      0.74      1300\n",
      "\n"
     ]
    }
   ],
   "source": [
    "import pandas as pd\n",
    "from sklearn.metrics import classification_report\n",
    "\n",
    "# Ringkasan akurasi tiap model\n",
    "results = [\n",
    "    (\"GaussianNB\", accuracy_score(y_test, g_pred)),\n",
    "    (\"MultinomialNB\", accuracy_score(y_test, m_pred)),\n",
    "    (\"BernoulliNB\", accuracy_score(y_test, b_pred)),\n",
    "    (\"Logistic Regression\", accuracy_score(y_test, l_pred))\n",
    "]\n",
    "\n",
    "summary = pd.DataFrame(results, columns=['Model', 'Accuracy']) \\\n",
    "            .sort_values('Accuracy', ascending=False).reset_index(drop=True)\n",
    "\n",
    "print(\"=== Ringkasan Akurasi ===\")\n",
    "print(summary)\n",
    "\n",
    "# Classification report tiap model\n",
    "print(\"\\n=== GaussianNB Report ===\")\n",
    "print(classification_report(y_test, g_pred))\n",
    "\n",
    "print(\"\\n=== MultinomialNB Report ===\")\n",
    "print(classification_report(y_test, m_pred))\n",
    "\n",
    "print(\"\\n=== BernoulliNB Report ===\")\n",
    "print(classification_report(y_test, b_pred))\n",
    "\n",
    "print(\"\\n=== Logistic Regression Report ===\")\n",
    "print(classification_report(y_test, l_pred))\n"
   ]
  },
  {
   "cell_type": "code",
   "execution_count": 66,
   "metadata": {
    "execution": {
     "iopub.execute_input": "2025-09-10T06:52:54.575237Z",
     "iopub.status.busy": "2025-09-10T06:52:54.574594Z",
     "iopub.status.idle": "2025-09-10T06:52:54.581115Z",
     "shell.execute_reply": "2025-09-10T06:52:54.580273Z",
     "shell.execute_reply.started": "2025-09-10T06:52:54.575209Z"
    },
    "trusted": true
   },
   "outputs": [],
   "source": [
    "models = {\n",
    "    \"GaussianNB\":   {\"pipe\": pipe_g, \"y_pred\": g_pred},\n",
    "    \"MultinomialNB\":{\"pipe\": pipe_m, \"y_pred\": m_pred},\n",
    "    \"BernoulliNB\":  {\"pipe\": pipe_b, \"y_pred\": b_pred},\n",
    "    \"LogisticRegression\": {\"pipe\": pipe_l, \"y_pred\" : l_pred},\n",
    "}"
   ]
  },
  {
   "cell_type": "code",
   "execution_count": 67,
   "metadata": {
    "execution": {
     "iopub.execute_input": "2025-09-10T06:52:54.584154Z",
     "iopub.status.busy": "2025-09-10T06:52:54.583833Z",
     "iopub.status.idle": "2025-09-10T06:52:54.801988Z",
     "shell.execute_reply": "2025-09-10T06:52:54.800820Z",
     "shell.execute_reply.started": "2025-09-10T06:52:54.584131Z"
    },
    "trusted": true
   },
   "outputs": [
    {
     "data": {
      "image/png": "[encoded data removed]",
      "text/plain": [
       "<Figure size 600x400 with 1 Axes>"
      ]
     },
     "metadata": {},
     "output_type": "display_data"
    }
   ],
   "source": [
    "import matplotlib.pyplot as plt\n",
    "\n",
    "accs = {name: accuracy_score(y_test, m[\"y_pred\"]) for name, m in models.items()}\n",
    "\n",
    "plt.figure(figsize=(6,4))\n",
    "names, vals = zip(*accs.items())\n",
    "bars = plt.bar(names, vals)\n",
    "for b, v in zip(bars, vals):\n",
    "    plt.text(b.get_x() + b.get_width()/2, v + 0.005, f\"{v:.3f}\", ha=\"center\", fontsize=10)\n",
    "plt.ylim(0, 1.05)\n",
    "plt.ylabel(\"Accuracy\")\n",
    "plt.title(\"Naive Bayes Models + LogisticReg — Accuracy\")\n",
    "plt.tight_layout()\n",
    "plt.show()"
   ]
  },
  {
   "cell_type": "code",
   "execution_count": 68,
   "metadata": {
    "execution": {
     "iopub.execute_input": "2025-09-10T06:53:17.244194Z",
     "iopub.status.busy": "2025-09-10T06:53:17.243848Z",
     "iopub.status.idle": "2025-09-10T06:53:17.627784Z",
     "shell.execute_reply": "2025-09-10T06:53:17.626502Z",
     "shell.execute_reply.started": "2025-09-10T06:53:17.244168Z"
    },
    "id": "d3QKrxlj6gNs",
    "trusted": true
   },
   "outputs": [
    {
     "data": {
      "image/png": "[encoded data removed]",
      "text/plain": [
       "<Figure size 1200x360 with 4 Axes>"
      ]
     },
     "metadata": {},
     "output_type": "display_data"
    }
   ],
   "source": [
    "from sklearn.metrics import confusion_matrix\n",
    "from sklearn.metrics import ConfusionMatrixDisplay\n",
    "\n",
    "fig, axes = plt.subplots(1, 4, figsize=(12, 3.6))\n",
    "for ax, (name, m) in zip(axes, models.items()):\n",
    "    cm = confusion_matrix(y_test, m[\"y_pred\"])\n",
    "    disp = ConfusionMatrixDisplay(cm)\n",
    "    disp.plot(ax=ax, colorbar=False)\n",
    "    ax.set_title(name)\n",
    "plt.tight_layout()\n",
    "plt.show()"
   ]
  },
  {
   "cell_type": "markdown",
   "metadata": {},
   "source": [
    "## Kesimpulan\n",
    "\n",
    "Berdasarkan hasil eksperimen sebelum dan sesudah preprocessing tambahan:\n",
    "\n",
    "1. **Akurasi Model**\n",
    "   - Terlihat ada **penurunan akurasi** pada beberapa model setelah dilakukan preprocessing.  \n",
    "   - Hal ini wajar terjadi karena sebelumnya model lebih “diuntungkan” oleh distribusi data yang imbalance (lebih banyak kelas mayoritas).  \n",
    "\n",
    "2. **Precision dan Recall**\n",
    "   - Setelah preprocessing (khususnya dengan penerapan **SMOTE**), terjadi **peningkatan nilai precision dan recall**, terutama pada kelas minoritas.  \n",
    "   - Model menjadi lebih seimbang dalam mengenali kedua kelas, tidak hanya fokus pada kelas mayoritas.  \n",
    "\n",
    "3. **Perbandingan Model**\n",
    "   - **Logistic Regression** tetap menjadi model dengan performa terbaik secara keseluruhan.  \n",
    "   - **GaussianNB** juga menunjukkan peningkatan yang stabil.  \n",
    "   - **MultinomialNB** dan **BernoulliNB** kurang cocok untuk dataset ini, terlihat dari confusion matrix yang cenderung bias ke satu kelas saja.  \n",
    "\n",
    "### Inti\n",
    "- **Sebelum preprocessing:** Akurasi lebih tinggi, tetapi precision dan recall (terutama kelas minoritas) rendah → model bias terhadap kelas mayoritas.  \n",
    "- **Sesudah preprocessing:** Akurasi sedikit menurun, tetapi precision dan recall naik → model lebih adil dan mampu mengenali kelas minoritas dengan lebih baik.  \n",
    "\n",
    "Dengan demikian, preprocessing yang dilakukan terbukti efektif dalam meningkatkan kualitas prediksi secara menyeluruh, meskipun mengorbankan sedikit akurasi.\n"
   ]
  }
 ],
 "metadata": {
  "colab": {
   "provenance": []
  },
  "kaggle": {
   "accelerator": "none",
   "dataSources": [],
   "dockerImageVersionId": 31089,
   "isGpuEnabled": false,
   "isInternetEnabled": true,
   "language": "python",
   "sourceType": "notebook"
  },
  "kernelspec": {
   "display_name": "ML (3.12.4)",
   "language": "python",
   "name": "python3"
  },
  "language_info": {
   "codemirror_mode": {
    "name": "ipython",
    "version": 3
   },
   "file_extension": ".py",
   "mimetype": "text/x-python",
   "name": "python",
   "nbconvert_exporter": "python",
   "pygments_lexer": "ipython3",
   "version": "3.12.4"
  }
 },
 "nbformat": 4,
 "nbformat_minor": 4
}
