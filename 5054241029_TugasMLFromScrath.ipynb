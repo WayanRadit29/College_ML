{
 "cells": [
  {
   "cell_type": "markdown",
   "id": "16019150",
   "metadata": {},
   "source": [
    "# **Tugas Machine Learning – KNN From Scratch**\n",
    "\n",
    "**Nama:** Wayan Raditya Putra  \n",
    "**NRP:** 5054241029  \n",
    "**Program Studi:** Rekayasa Kecerdasan Artifisial (RKA)  \n",
    "**Angkatan:** 2024  \n",
    "**Kelas:** N  \n",
    "**Mata Kuliah:** Machine Learning  \n",
    "**Dosen Pembimbing:** Bapak Aldinata & Ibu Dini\n"
   ]
  },
  {
   "cell_type": "code",
   "execution_count": 1,
   "id": "9ea14732",
   "metadata": {},
   "outputs": [],
   "source": [
    "import pandas as pd \n",
    "import numpy as np\n",
    "\n"
   ]
  },
  {
   "cell_type": "code",
   "execution_count": 2,
   "id": "340e52c6",
   "metadata": {},
   "outputs": [],
   "source": [
    "import math\n",
    "def euclidean_distance(x1, x2):\n",
    "\n",
    "    temp = 0\n",
    "    for i in range(len(x1)):\n",
    "        temp += (x1[i] - x2[i]) ** 2\n",
    "\n",
    "    return math.sqrt(temp)\n",
    "\n",
    "def get_k_neighbors(X_train, y_train, x_test, k):\n",
    "    distance = []\n",
    "    for i in range(len(X_train)):\n",
    "        d = euclidean_distance(x_test, X_train[i])\n",
    "        distance.append((d, y_train[i]))\n",
    "\n",
    "    distance.sort(key=lambda tup: tup[0])\n",
    "    neighbors = [label for (_,label) in distance[:k]]\n",
    "    return neighbors\n",
    "\n"
   ]
  }
 ],
 "metadata": {
  "kernelspec": {
   "display_name": "ML_venv (3.12.4)",
   "language": "python",
   "name": "python3"
  },
  "language_info": {
   "codemirror_mode": {
    "name": "ipython",
    "version": 3
   },
   "file_extension": ".py",
   "mimetype": "text/x-python",
   "name": "python",
   "nbconvert_exporter": "python",
   "pygments_lexer": "ipython3",
   "version": "3.12.4"
  }
 },
 "nbformat": 4,
 "nbformat_minor": 5
}
