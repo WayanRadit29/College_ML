{
 "cells": [
  {
   "cell_type": "code",
   "execution_count": 1,
   "id": "6a53eaaa",
   "metadata": {},
   "outputs": [
    {
     "name": "stdout",
     "output_type": "stream",
     "text": [
      "[[ 63.33333333   2.        ]\n",
      " [123.33333333   3.33333333]]\n",
      "[1 1]\n"
     ]
    }
   ],
   "source": [
    "from sklearn.cluster import KMeans\n",
    "\n",
    "# Data train\n",
    "X_train = [\n",
    "   [50, 1], \n",
    "   [60, 2], \n",
    "   [80, 3], \n",
    "   [100, 3], \n",
    "   [120, 3], \n",
    "   [150, 4]\n",
    "]\n",
    "\n",
    "# Data uji / test\n",
    "X_test = [\n",
    "   [130, 3],\n",
    "   [160, 4]\n",
    "]\n",
    "\n",
    "# Inisialisasi dan melatih model K-Means\n",
    "kmeans = KMeans(\n",
    "    n_clusters=2,      # Jumlah klaster yang ingin dibentuk\n",
    "    init=\"k-means++\",  # Metode inisialisasi centroid\n",
    "    n_init=10,         # Berapa kali algoritma dicoba untuk hasil terbaik\n",
    "    max_iter=300,      # Iterasi maksimum\n",
    ")\n",
    "\n",
    "kmeans.fit(X_train)\n",
    "\n",
    "# Menampilkan centroid hasil pelatihan\n",
    "print(kmeans.cluster_centers_)\n",
    "\n",
    "# Menentukan klaster dari data uji\n",
    "y_pred = kmeans.predict(X_test)\n",
    "print(y_pred)"
   ]
  }
 ],
 "metadata": {
  "kernelspec": {
   "display_name": "ML (3.12.4)",
   "language": "python",
   "name": "python3"
  },
  "language_info": {
   "codemirror_mode": {
    "name": "ipython",
    "version": 3
   },
   "file_extension": ".py",
   "mimetype": "text/x-python",
   "name": "python",
   "nbconvert_exporter": "python",
   "pygments_lexer": "ipython3",
   "version": "3.12.4"
  }
 },
 "nbformat": 4,
 "nbformat_minor": 5
}
