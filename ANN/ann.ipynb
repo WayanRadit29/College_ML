{
 "cells": [
  {
   "cell_type": "code",
   "execution_count": 4,
   "id": "2dc24e77",
   "metadata": {},
   "outputs": [
    {
     "name": "stdout",
     "output_type": "stream",
     "text": [
      "[1 0]\n"
     ]
    },
    {
     "name": "stderr",
     "output_type": "stream",
     "text": [
      "d:\\AI_Journey\\Machine_Learning_Journey\\ML\\Lib\\site-packages\\sklearn\\neural_network\\_multilayer_perceptron.py:781: ConvergenceWarning: Stochastic Optimizer: Maximum iterations (200) reached and the optimization hasn't converged yet.\n",
      "  warnings.warn(\n"
     ]
    }
   ],
   "source": [
    "from sklearn.neural_network import MLPClassifier\n",
    "\n",
    "# Data train\n",
    "X_train = [\n",
    "    [1.2, 2.3, 0.7],\n",
    "    [2.1, 1.8, 1.5],\n",
    "    [3.4, 3.1, 0.2],\n",
    "    [4.7, 2.4, 1.1],\n",
    "    [5.5, 5.2, 0.9],\n",
    "    [6.3, 3.7, 1.4],\n",
    "    # ...\n",
    "]\n",
    "y_train = [0, 0, 1, 0, 1, 1]\n",
    "\n",
    "# Data uji / test\n",
    "X_test = [\n",
    "    [2.0, 2.1, 1.0],\n",
    "    [5.8, 4.9, 1.3]\n",
    "    # ...\n",
    "]\n",
    "\n",
    "# Inisialisasi & melatih model\n",
    "model = MLPClassifier(\n",
    "   hidden_layer_sizes=(5,),   # Ukuran hidden layer\n",
    "   activation='relu',         # Fungsi aktivasi\n",
    "   solver='adam',             # Metode optimisasi\n",
    "   max_iter=200,              # Jumlah iterasi maksimum\n",
    "   random_state=42,           # Random state\n",
    ")\n",
    "model.fit(X_train, y_train)\n",
    "\n",
    "# Prediksi nilai target untuk data uji\n",
    "y_pred = model.predict(X_test)\n",
    "print(y_pred)"
   ]
  },
  {
   "cell_type": "code",
   "execution_count": null,
   "id": "16917966",
   "metadata": {},
   "outputs": [],
   "source": []
  }
 ],
 "metadata": {
  "kernelspec": {
   "display_name": "ML (3.12.4)",
   "language": "python",
   "name": "python3"
  },
  "language_info": {
   "codemirror_mode": {
    "name": "ipython",
    "version": 3
   },
   "file_extension": ".py",
   "mimetype": "text/x-python",
   "name": "python",
   "nbconvert_exporter": "python",
   "pygments_lexer": "ipython3",
   "version": "3.12.4"
  }
 },
 "nbformat": 4,
 "nbformat_minor": 5
}
