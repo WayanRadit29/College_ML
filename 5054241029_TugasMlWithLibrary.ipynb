{
 "cells": [
  {
   "cell_type": "markdown",
   "metadata": {},
   "source": [
    "# **Tugas Machine Learning – KNN with Library**\n",
    "\n",
    "**Nama:** Wayan Raditya Putra  \n",
    "**NRP:** 5054241029  \n",
    "**Program Studi:** Rekayasa Kecerdasan Artifisial (RKA)  \n",
    "**Angkatan:** 2024  \n",
    "**Kelas:** N  \n",
    "**Mata Kuliah:** Machine Learning  \n",
    "**Dosen Pembimbing:** Bapak Aldinata & Ibu Dini\n"
   ]
  },
  {
   "cell_type": "markdown",
   "metadata": {},
   "source": [
    "## Persiapan Awal\n",
    "\n",
    "Sebelum memulai proses analisis dan pembangunan model **K-Nearest Neighbors (KNN)**, terlebih dahulu kita perlu melakukan import beberapa library utama yang akan digunakan dalam pengerjaan tugas ini, yaitu:\n",
    "\n",
    "- **pandas** → digunakan untuk mengelola dan memanipulasi data dalam bentuk tabel (DataFrame).  \n",
    "- **numpy** → digunakan untuk operasi numerik, terutama array dan perhitungan matematis.  \n",
    "- **matplotlib.pyplot** → digunakan untuk visualisasi data berupa grafik dasar.  \n",
    "- **seaborn** → digunakan untuk visualisasi data yang lebih interaktif dan informatif dengan tampilan estetis.  \n",
    "\n",
    "Library ini akan menjadi fondasi dalam proses **eksplorasi data, visualisasi, hingga implementasi model KNN**.\n"
   ]
  },
  {
   "cell_type": "code",
   "execution_count": 2,
   "metadata": {
    "execution": {
     "iopub.execute_input": "2025-09-03T06:21:33.322007Z",
     "iopub.status.busy": "2025-09-03T06:21:33.321684Z",
     "iopub.status.idle": "2025-09-03T06:21:35.728042Z",
     "shell.execute_reply": "2025-09-03T06:21:35.726855Z",
     "shell.execute_reply.started": "2025-09-03T06:21:33.321978Z"
    },
    "trusted": true
   },
   "outputs": [],
   "source": [
    "import pandas as pd \n",
    "import numpy as np\n",
    "import matplotlib.pyplot as plt\n",
    "import seaborn as sns"
   ]
  },
  {
   "cell_type": "markdown",
   "metadata": {},
   "source": [
    "## Memuat Dataset Iris\n",
    "\n",
    "Pada tahap ini, dataset yang digunakan adalah **Iris Dataset**. Dataset ini berisi informasi mengenai tiga jenis bunga *Iris* (Setosa, Versicolor, dan Virginica), dengan empat atribut utama:  \n",
    "\n",
    "1. **Sepal Length** (panjang sepal)  \n",
    "2. **Sepal Width** (lebar sepal)  \n",
    "3. **Petal Length** (panjang petal)  \n",
    "4. **Petal Width** (lebar petal)  \n",
    "\n",
    "Proses pertama yang dilakukan adalah membaca dataset dari file `Iris.csv` menggunakan fungsi `pd.read_csv()`. Setelah itu, dataset ditampilkan secara keseluruhan untuk memastikan data berhasil dimuat dengan benar.\n"
   ]
  },
  {
   "cell_type": "code",
   "execution_count": 3,
   "metadata": {
    "execution": {
     "iopub.execute_input": "2025-09-03T06:21:35.731987Z",
     "iopub.status.busy": "2025-09-03T06:21:35.730783Z",
     "iopub.status.idle": "2025-09-03T06:21:35.783358Z",
     "shell.execute_reply": "2025-09-03T06:21:35.782078Z",
     "shell.execute_reply.started": "2025-09-03T06:21:35.731945Z"
    },
    "trusted": true
   },
   "outputs": [
    {
     "data": {
      "text/html": [
       "<div>\n",
       "<style scoped>\n",
       "    .dataframe tbody tr th:only-of-type {\n",
       "        vertical-align: middle;\n",
       "    }\n",
       "\n",
       "    .dataframe tbody tr th {\n",
       "        vertical-align: top;\n",
       "    }\n",
       "\n",
       "    .dataframe thead th {\n",
       "        text-align: right;\n",
       "    }\n",
       "</style>\n",
       "<table border=\"1\" class=\"dataframe\">\n",
       "  <thead>\n",
       "    <tr style=\"text-align: right;\">\n",
       "      <th></th>\n",
       "      <th>Id</th>\n",
       "      <th>SepalLengthCm</th>\n",
       "      <th>SepalWidthCm</th>\n",
       "      <th>PetalLengthCm</th>\n",
       "      <th>PetalWidthCm</th>\n",
       "      <th>Species</th>\n",
       "    </tr>\n",
       "  </thead>\n",
       "  <tbody>\n",
       "    <tr>\n",
       "      <th>0</th>\n",
       "      <td>1</td>\n",
       "      <td>5.1</td>\n",
       "      <td>3.5</td>\n",
       "      <td>1.4</td>\n",
       "      <td>0.2</td>\n",
       "      <td>Iris-setosa</td>\n",
       "    </tr>\n",
       "    <tr>\n",
       "      <th>1</th>\n",
       "      <td>2</td>\n",
       "      <td>4.9</td>\n",
       "      <td>3.0</td>\n",
       "      <td>1.4</td>\n",
       "      <td>0.2</td>\n",
       "      <td>Iris-setosa</td>\n",
       "    </tr>\n",
       "    <tr>\n",
       "      <th>2</th>\n",
       "      <td>3</td>\n",
       "      <td>4.7</td>\n",
       "      <td>3.2</td>\n",
       "      <td>1.3</td>\n",
       "      <td>0.2</td>\n",
       "      <td>Iris-setosa</td>\n",
       "    </tr>\n",
       "    <tr>\n",
       "      <th>3</th>\n",
       "      <td>4</td>\n",
       "      <td>4.6</td>\n",
       "      <td>3.1</td>\n",
       "      <td>1.5</td>\n",
       "      <td>0.2</td>\n",
       "      <td>Iris-setosa</td>\n",
       "    </tr>\n",
       "    <tr>\n",
       "      <th>4</th>\n",
       "      <td>5</td>\n",
       "      <td>5.0</td>\n",
       "      <td>3.6</td>\n",
       "      <td>1.4</td>\n",
       "      <td>0.2</td>\n",
       "      <td>Iris-setosa</td>\n",
       "    </tr>\n",
       "    <tr>\n",
       "      <th>...</th>\n",
       "      <td>...</td>\n",
       "      <td>...</td>\n",
       "      <td>...</td>\n",
       "      <td>...</td>\n",
       "      <td>...</td>\n",
       "      <td>...</td>\n",
       "    </tr>\n",
       "    <tr>\n",
       "      <th>145</th>\n",
       "      <td>146</td>\n",
       "      <td>6.7</td>\n",
       "      <td>3.0</td>\n",
       "      <td>5.2</td>\n",
       "      <td>2.3</td>\n",
       "      <td>Iris-virginica</td>\n",
       "    </tr>\n",
       "    <tr>\n",
       "      <th>146</th>\n",
       "      <td>147</td>\n",
       "      <td>6.3</td>\n",
       "      <td>2.5</td>\n",
       "      <td>5.0</td>\n",
       "      <td>1.9</td>\n",
       "      <td>Iris-virginica</td>\n",
       "    </tr>\n",
       "    <tr>\n",
       "      <th>147</th>\n",
       "      <td>148</td>\n",
       "      <td>6.5</td>\n",
       "      <td>3.0</td>\n",
       "      <td>5.2</td>\n",
       "      <td>2.0</td>\n",
       "      <td>Iris-virginica</td>\n",
       "    </tr>\n",
       "    <tr>\n",
       "      <th>148</th>\n",
       "      <td>149</td>\n",
       "      <td>6.2</td>\n",
       "      <td>3.4</td>\n",
       "      <td>5.4</td>\n",
       "      <td>2.3</td>\n",
       "      <td>Iris-virginica</td>\n",
       "    </tr>\n",
       "    <tr>\n",
       "      <th>149</th>\n",
       "      <td>150</td>\n",
       "      <td>5.9</td>\n",
       "      <td>3.0</td>\n",
       "      <td>5.1</td>\n",
       "      <td>1.8</td>\n",
       "      <td>Iris-virginica</td>\n",
       "    </tr>\n",
       "  </tbody>\n",
       "</table>\n",
       "<p>150 rows × 6 columns</p>\n",
       "</div>"
      ],
      "text/plain": [
       "      Id  SepalLengthCm  SepalWidthCm  PetalLengthCm  PetalWidthCm  \\\n",
       "0      1            5.1           3.5            1.4           0.2   \n",
       "1      2            4.9           3.0            1.4           0.2   \n",
       "2      3            4.7           3.2            1.3           0.2   \n",
       "3      4            4.6           3.1            1.5           0.2   \n",
       "4      5            5.0           3.6            1.4           0.2   \n",
       "..   ...            ...           ...            ...           ...   \n",
       "145  146            6.7           3.0            5.2           2.3   \n",
       "146  147            6.3           2.5            5.0           1.9   \n",
       "147  148            6.5           3.0            5.2           2.0   \n",
       "148  149            6.2           3.4            5.4           2.3   \n",
       "149  150            5.9           3.0            5.1           1.8   \n",
       "\n",
       "            Species  \n",
       "0       Iris-setosa  \n",
       "1       Iris-setosa  \n",
       "2       Iris-setosa  \n",
       "3       Iris-setosa  \n",
       "4       Iris-setosa  \n",
       "..              ...  \n",
       "145  Iris-virginica  \n",
       "146  Iris-virginica  \n",
       "147  Iris-virginica  \n",
       "148  Iris-virginica  \n",
       "149  Iris-virginica  \n",
       "\n",
       "[150 rows x 6 columns]"
      ]
     },
     "execution_count": 3,
     "metadata": {},
     "output_type": "execute_result"
    }
   ],
   "source": [
    "iris = pd.read_csv('Iris.csv')\n",
    "iris"
   ]
  },
  {
   "cell_type": "markdown",
   "metadata": {},
   "source": [
    "## Informasi Struktur Dataset\n",
    "\n",
    "Langkah berikutnya adalah menampilkan informasi struktur dari dataset menggunakan fungsi `iris.info()`.  \n",
    "\n",
    "Tujuannya adalah untuk:  \n",
    "- Mengetahui jumlah baris dan kolom pada dataset.  \n",
    "- Melihat tipe data pada setiap kolom.  \n",
    "- Memastikan apakah terdapat nilai yang hilang (*missing values*) pada dataset.  \n",
    "\n",
    "Berdasarkan hasil output, dapat disimpulkan bahwa **tidak terdapat data yang hilang** sehingga dataset siap digunakan untuk tahap analisis dan pemodelan lebih lanjut.\n"
   ]
  },
  {
   "cell_type": "code",
   "execution_count": null,
   "metadata": {
    "execution": {
     "iopub.execute_input": "2025-09-03T06:21:35.789350Z",
     "iopub.status.busy": "2025-09-03T06:21:35.788937Z",
     "iopub.status.idle": "2025-09-03T06:21:35.825744Z",
     "shell.execute_reply": "2025-09-03T06:21:35.824531Z",
     "shell.execute_reply.started": "2025-09-03T06:21:35.789310Z"
    },
    "trusted": true
   },
   "outputs": [
    {
     "name": "stdout",
     "output_type": "stream",
     "text": [
      "<class 'pandas.core.frame.DataFrame'>\n",
      "RangeIndex: 150 entries, 0 to 149\n",
      "Data columns (total 6 columns):\n",
      " #   Column         Non-Null Count  Dtype  \n",
      "---  ------         --------------  -----  \n",
      " 0   Id             150 non-null    int64  \n",
      " 1   SepalLengthCm  150 non-null    float64\n",
      " 2   SepalWidthCm   150 non-null    float64\n",
      " 3   PetalLengthCm  150 non-null    float64\n",
      " 4   PetalWidthCm   150 non-null    float64\n",
      " 5   Species        150 non-null    object \n",
      "dtypes: float64(4), int64(1), object(1)\n",
      "memory usage: 7.2+ KB\n"
     ]
    }
   ],
   "source": [
    "iris.info()"
   ]
  },
  {
   "cell_type": "markdown",
   "metadata": {},
   "source": [
    "## Statistik Deskriptif Dataset\n",
    "\n",
    "Setelah memastikan tidak ada data yang hilang, tahap selanjutnya adalah menampilkan **statistik deskriptif** dari dataset dengan fungsi `iris.describe()`.  \n",
    "\n",
    "Informasi yang ditampilkan meliputi:  \n",
    "- **count** → jumlah data pada setiap kolom numerik.  \n",
    "- **mean** → nilai rata-rata.  \n",
    "- **std** → standar deviasi yang menunjukkan sebaran data.  \n",
    "- **min dan max** → nilai minimum dan maksimum.  \n",
    "- **25%, 50%, 75%** → nilai kuartil pertama, median, dan kuartil ketiga.  \n",
    "\n",
    "Statistik ini memberikan gambaran awal mengenai distribusi data pada setiap fitur sebelum dilakukan analisis lebih lanjut.\n"
   ]
  },
  {
   "cell_type": "code",
   "execution_count": null,
   "metadata": {
    "execution": {
     "iopub.execute_input": "2025-09-03T06:21:35.827963Z",
     "iopub.status.busy": "2025-09-03T06:21:35.827302Z",
     "iopub.status.idle": "2025-09-03T06:21:35.862395Z",
     "shell.execute_reply": "2025-09-03T06:21:35.861288Z",
     "shell.execute_reply.started": "2025-09-03T06:21:35.827931Z"
    },
    "trusted": true
   },
   "outputs": [
    {
     "data": {
      "text/html": [
       "<div>\n",
       "<style scoped>\n",
       "    .dataframe tbody tr th:only-of-type {\n",
       "        vertical-align: middle;\n",
       "    }\n",
       "\n",
       "    .dataframe tbody tr th {\n",
       "        vertical-align: top;\n",
       "    }\n",
       "\n",
       "    .dataframe thead th {\n",
       "        text-align: right;\n",
       "    }\n",
       "</style>\n",
       "<table border=\"1\" class=\"dataframe\">\n",
       "  <thead>\n",
       "    <tr style=\"text-align: right;\">\n",
       "      <th></th>\n",
       "      <th>Id</th>\n",
       "      <th>SepalLengthCm</th>\n",
       "      <th>SepalWidthCm</th>\n",
       "      <th>PetalLengthCm</th>\n",
       "      <th>PetalWidthCm</th>\n",
       "    </tr>\n",
       "  </thead>\n",
       "  <tbody>\n",
       "    <tr>\n",
       "      <th>count</th>\n",
       "      <td>150.000000</td>\n",
       "      <td>150.000000</td>\n",
       "      <td>150.000000</td>\n",
       "      <td>150.000000</td>\n",
       "      <td>150.000000</td>\n",
       "    </tr>\n",
       "    <tr>\n",
       "      <th>mean</th>\n",
       "      <td>75.500000</td>\n",
       "      <td>5.843333</td>\n",
       "      <td>3.054000</td>\n",
       "      <td>3.758667</td>\n",
       "      <td>1.198667</td>\n",
       "    </tr>\n",
       "    <tr>\n",
       "      <th>std</th>\n",
       "      <td>43.445368</td>\n",
       "      <td>0.828066</td>\n",
       "      <td>0.433594</td>\n",
       "      <td>1.764420</td>\n",
       "      <td>0.763161</td>\n",
       "    </tr>\n",
       "    <tr>\n",
       "      <th>min</th>\n",
       "      <td>1.000000</td>\n",
       "      <td>4.300000</td>\n",
       "      <td>2.000000</td>\n",
       "      <td>1.000000</td>\n",
       "      <td>0.100000</td>\n",
       "    </tr>\n",
       "    <tr>\n",
       "      <th>25%</th>\n",
       "      <td>38.250000</td>\n",
       "      <td>5.100000</td>\n",
       "      <td>2.800000</td>\n",
       "      <td>1.600000</td>\n",
       "      <td>0.300000</td>\n",
       "    </tr>\n",
       "    <tr>\n",
       "      <th>50%</th>\n",
       "      <td>75.500000</td>\n",
       "      <td>5.800000</td>\n",
       "      <td>3.000000</td>\n",
       "      <td>4.350000</td>\n",
       "      <td>1.300000</td>\n",
       "    </tr>\n",
       "    <tr>\n",
       "      <th>75%</th>\n",
       "      <td>112.750000</td>\n",
       "      <td>6.400000</td>\n",
       "      <td>3.300000</td>\n",
       "      <td>5.100000</td>\n",
       "      <td>1.800000</td>\n",
       "    </tr>\n",
       "    <tr>\n",
       "      <th>max</th>\n",
       "      <td>150.000000</td>\n",
       "      <td>7.900000</td>\n",
       "      <td>4.400000</td>\n",
       "      <td>6.900000</td>\n",
       "      <td>2.500000</td>\n",
       "    </tr>\n",
       "  </tbody>\n",
       "</table>\n",
       "</div>"
      ],
      "text/plain": [
       "               Id  SepalLengthCm  SepalWidthCm  PetalLengthCm  PetalWidthCm\n",
       "count  150.000000     150.000000    150.000000     150.000000    150.000000\n",
       "mean    75.500000       5.843333      3.054000       3.758667      1.198667\n",
       "std     43.445368       0.828066      0.433594       1.764420      0.763161\n",
       "min      1.000000       4.300000      2.000000       1.000000      0.100000\n",
       "25%     38.250000       5.100000      2.800000       1.600000      0.300000\n",
       "50%     75.500000       5.800000      3.000000       4.350000      1.300000\n",
       "75%    112.750000       6.400000      3.300000       5.100000      1.800000\n",
       "max    150.000000       7.900000      4.400000       6.900000      2.500000"
      ]
     },
     "execution_count": 4,
     "metadata": {},
     "output_type": "execute_result"
    }
   ],
   "source": [
    "iris.describe()"
   ]
  },
  {
   "cell_type": "markdown",
   "metadata": {},
   "source": [
    "## Distribusi Label Kelas\n",
    "\n",
    "Untuk memastikan keseimbangan pada label target, dilakukan pengecekan jumlah data pada setiap kelas menggunakan fungsi `value_counts()`.  \n",
    "\n",
    "Hasil yang diperoleh menunjukkan bahwa:  \n",
    "- Setiap spesies bunga *Iris* (**Setosa, Versicolor, dan Virginica**) memiliki jumlah data yang sama.  \n",
    "- Distribusi label pada dataset **seimbang (balanced labels)**.  \n",
    "\n",
    "Hal ini penting karena dataset yang seimbang akan mempermudah proses pelatihan model dan mencegah terjadinya bias terhadap salah satu kelas.\n"
   ]
  },
  {
   "cell_type": "code",
   "execution_count": null,
   "metadata": {
    "execution": {
     "iopub.execute_input": "2025-09-03T06:21:35.881672Z",
     "iopub.status.busy": "2025-09-03T06:21:35.881255Z",
     "iopub.status.idle": "2025-09-03T06:21:35.897595Z",
     "shell.execute_reply": "2025-09-03T06:21:35.895901Z",
     "shell.execute_reply.started": "2025-09-03T06:21:35.881630Z"
    },
    "trusted": true
   },
   "outputs": [
    {
     "data": {
      "text/plain": [
       "Species\n",
       "Iris-setosa        50\n",
       "Iris-versicolor    50\n",
       "Iris-virginica     50\n",
       "Name: count, dtype: int64"
      ]
     },
     "execution_count": 6,
     "metadata": {},
     "output_type": "execute_result"
    }
   ],
   "source": [
    "iris[\"Species\"].value_counts()"
   ]
  },
  {
   "cell_type": "markdown",
   "metadata": {},
   "source": [
    "## Penanganan Peringatan (*Warnings*)\n",
    "\n",
    "Pada tahap implementasi model Machine Learning, sering kali muncul pesan peringatan (*warnings*) dari library yang digunakan.  \n",
    "Untuk menjaga tampilan notebook tetap bersih dan fokus pada hasil utama, digunakan perintah:  \n",
    "\n",
    "```python\n",
    "import warnings\n",
    "warnings.filterwarnings('ignore')\n"
   ]
  },
  {
   "cell_type": "code",
   "execution_count": 4,
   "metadata": {
    "execution": {
     "iopub.execute_input": "2025-09-03T06:21:35.899271Z",
     "iopub.status.busy": "2025-09-03T06:21:35.898934Z",
     "iopub.status.idle": "2025-09-03T06:21:35.908410Z",
     "shell.execute_reply": "2025-09-03T06:21:35.907157Z",
     "shell.execute_reply.started": "2025-09-03T06:21:35.899242Z"
    },
    "trusted": true
   },
   "outputs": [],
   "source": [
    "import warnings\n",
    "warnings.filterwarnings('ignore')"
   ]
  },
  {
   "cell_type": "markdown",
   "metadata": {},
   "source": [
    "## Visualisasi Korelasi Fitur\n",
    "\n",
    "Untuk memahami hubungan antara fitur dengan label target (*Species*), dilakukan perhitungan **korelasi Pearson**.  \n",
    "Karena kolom *Species* bertipe kategori, maka label terlebih dahulu di-*encode* menjadi numerik (*Species_encoded*).  \n",
    "\n",
    "Hasil visualisasi dalam bentuk **heatmap** menunjukkan:  \n",
    "- Tingkat hubungan (positif atau negatif) antara setiap fitur numerik.  \n",
    "- Korelasi antara masing-masing fitur dengan target *Species*.  \n",
    "\n",
    "Analisis ini membantu dalam memahami fitur mana yang paling relevan dalam membedakan kelas pada dataset Iris.  \n",
    "Kolom *Species* asli tidak dimasukkan ke dalam korelasi agar tidak terjadi duplikasi informasi (misalnya *Species* vs *Species*).\n"
   ]
  },
  {
   "cell_type": "code",
   "execution_count": null,
   "metadata": {
    "execution": {
     "iopub.execute_input": "2025-09-03T06:21:35.910515Z",
     "iopub.status.busy": "2025-09-03T06:21:35.910093Z",
     "iopub.status.idle": "2025-09-03T06:21:45.171445Z",
     "shell.execute_reply": "2025-09-03T06:21:45.170245Z",
     "shell.execute_reply.started": "2025-09-03T06:21:35.910476Z"
    },
    "trusted": true
   },
   "outputs": [
    {
     "data": {
      "image/png": "[encoded data removed]",
      "text/plain": [
       "<Figure size 800x600 with 2 Axes>"
      ]
     },
     "metadata": {},
     "output_type": "display_data"
    }
   ],
   "source": [
    "#Encode target species menjadi numerik agar bisa dihitung korelasi\n",
    "from sklearn.preprocessing import LabelEncoder\n",
    "\n",
    "le = LabelEncoder()\n",
    "iris['Species_encoded'] = le.fit_transform(iris['Species'])\n",
    "\n",
    "#Hitung korelasi hanya antar fitur numerik + target encoded\n",
    "corr = iris.drop(columns=['Species']).corr()\n",
    "\n",
    "#Visualisasi heatmap korelasi\n",
    "plt.figure(figsize=(8,6))\n",
    "sns.heatmap(corr, annot=True, cmap=\"coolwarm\", fmt=\".2f\", cbar=True)\n",
    "plt.title(\"Heatmap Korelasi antar Fitur dengan Species\")\n",
    "plt.show()\n"
   ]
  },
  {
   "cell_type": "markdown",
   "metadata": {},
   "source": [
    "## Encoding Label Target\n",
    "\n",
    "Karena kolom **Species** masih berupa data kategorikal (*Setosa, Versicolor, Virginica*), maka diperlukan proses **encoding** agar dapat digunakan pada perhitungan numerik maupun pelatihan model Machine Learning.  \n",
    "\n",
    "Metode yang digunakan adalah **Label Encoding** dengan hasil sebagai berikut:  \n",
    "- *Iris-setosa* → **0**  \n",
    "- *Iris-versicolor* → **1**  \n",
    "- *Iris-virginica* → **2**  \n",
    "\n",
    "Dengan label target yang sudah dalam bentuk numerik, seluruh fitur pada dataset kini siap digunakan dalam proses pemodelan **K-Nearest Neighbors (KNN)**.\n"
   ]
  },
  {
   "cell_type": "code",
   "execution_count": null,
   "metadata": {
    "execution": {
     "iopub.execute_input": "2025-09-03T06:21:45.173077Z",
     "iopub.status.busy": "2025-09-03T06:21:45.172678Z",
     "iopub.status.idle": "2025-09-03T06:21:45.269697Z",
     "shell.execute_reply": "2025-09-03T06:21:45.268588Z",
     "shell.execute_reply.started": "2025-09-03T06:21:45.173045Z"
    },
    "trusted": true
   },
   "outputs": [
    {
     "data": {
      "text/plain": [
       "'\\nIris-setosa        lable 0\\nIris-versicolor    lable 1\\nIris-virginica     lable 2\\n'"
      ]
     },
     "execution_count": 9,
     "metadata": {},
     "output_type": "execute_result"
    }
   ],
   "source": [
    "from sklearn.preprocessing import LabelEncoder\n",
    "encoder = LabelEncoder()\n",
    "iris[\"Species\"] = encoder.fit_transform(iris[\"Species\"])\n",
    "iris[[\"Species\"]]\n"
   ]
  },
  {
   "cell_type": "markdown",
   "metadata": {},
   "source": [
    "## Normalisasi/Scaling Data\n",
    "\n",
    "Sebelum data digunakan dalam proses pemodelan **K-Nearest Neighbors (KNN)**, diperlukan langkah **scaling** pada fitur numerik.  \n",
    "Hal ini penting karena KNN sangat bergantung pada perhitungan jarak (*distance metric*).  \n",
    "Apabila skala antar fitur berbeda jauh, maka fitur dengan nilai lebih besar akan lebih dominan dan dapat menimbulkan bias.  \n",
    "\n",
    "Fitur yang akan dilakukan scaling adalah:  \n",
    "- **SepalLengthCm**  \n",
    "- **SepalWidthCm**  \n",
    "- **PetalLengthCm**  \n",
    "- **PetalWidthCm**  \n",
    "\n",
    "Dengan normalisasi, setiap fitur akan berada pada skala yang sebanding sehingga hasil perhitungan jarak menjadi lebih akurat.\n"
   ]
  },
  {
   "cell_type": "code",
   "execution_count": null,
   "metadata": {
    "execution": {
     "iopub.execute_input": "2025-09-03T06:21:45.271467Z",
     "iopub.status.busy": "2025-09-03T06:21:45.271141Z",
     "iopub.status.idle": "2025-09-03T06:21:45.278805Z",
     "shell.execute_reply": "2025-09-03T06:21:45.277650Z",
     "shell.execute_reply.started": "2025-09-03T06:21:45.271439Z"
    },
    "trusted": true
   },
   "outputs": [
    {
     "data": {
      "text/plain": [
       "Index(['Id', 'SepalLengthCm', 'SepalWidthCm', 'PetalLengthCm', 'PetalWidthCm',\n",
       "       'Species'],\n",
       "      dtype='object')"
      ]
     },
     "execution_count": 10,
     "metadata": {},
     "output_type": "execute_result"
    }
   ],
   "source": [
    "iris.columns"
   ]
  },
  {
   "cell_type": "markdown",
   "metadata": {},
   "source": [
    "# Scalling the data"
   ]
  },
  {
   "cell_type": "code",
   "execution_count": 11,
   "metadata": {
    "execution": {
     "iopub.execute_input": "2025-09-03T06:21:45.280969Z",
     "iopub.status.busy": "2025-09-03T06:21:45.280465Z",
     "iopub.status.idle": "2025-09-03T06:21:45.308659Z",
     "shell.execute_reply": "2025-09-03T06:21:45.307578Z",
     "shell.execute_reply.started": "2025-09-03T06:21:45.280927Z"
    },
    "trusted": true
   },
   "outputs": [
    {
     "data": {
      "text/html": [
       "<div>\n",
       "<style scoped>\n",
       "    .dataframe tbody tr th:only-of-type {\n",
       "        vertical-align: middle;\n",
       "    }\n",
       "\n",
       "    .dataframe tbody tr th {\n",
       "        vertical-align: top;\n",
       "    }\n",
       "\n",
       "    .dataframe thead th {\n",
       "        text-align: right;\n",
       "    }\n",
       "</style>\n",
       "<table border=\"1\" class=\"dataframe\">\n",
       "  <thead>\n",
       "    <tr style=\"text-align: right;\">\n",
       "      <th></th>\n",
       "      <th>Id</th>\n",
       "      <th>SepalLengthCm</th>\n",
       "      <th>SepalWidthCm</th>\n",
       "      <th>PetalLengthCm</th>\n",
       "      <th>PetalWidthCm</th>\n",
       "      <th>Species</th>\n",
       "    </tr>\n",
       "  </thead>\n",
       "  <tbody>\n",
       "    <tr>\n",
       "      <th>0</th>\n",
       "      <td>1</td>\n",
       "      <td>-0.900681</td>\n",
       "      <td>1.032057</td>\n",
       "      <td>-1.341272</td>\n",
       "      <td>-1.312977</td>\n",
       "      <td>0</td>\n",
       "    </tr>\n",
       "    <tr>\n",
       "      <th>1</th>\n",
       "      <td>2</td>\n",
       "      <td>-1.143017</td>\n",
       "      <td>-0.124958</td>\n",
       "      <td>-1.341272</td>\n",
       "      <td>-1.312977</td>\n",
       "      <td>0</td>\n",
       "    </tr>\n",
       "    <tr>\n",
       "      <th>2</th>\n",
       "      <td>3</td>\n",
       "      <td>-1.385353</td>\n",
       "      <td>0.337848</td>\n",
       "      <td>-1.398138</td>\n",
       "      <td>-1.312977</td>\n",
       "      <td>0</td>\n",
       "    </tr>\n",
       "    <tr>\n",
       "      <th>3</th>\n",
       "      <td>4</td>\n",
       "      <td>-1.506521</td>\n",
       "      <td>0.106445</td>\n",
       "      <td>-1.284407</td>\n",
       "      <td>-1.312977</td>\n",
       "      <td>0</td>\n",
       "    </tr>\n",
       "    <tr>\n",
       "      <th>4</th>\n",
       "      <td>5</td>\n",
       "      <td>-1.021849</td>\n",
       "      <td>1.263460</td>\n",
       "      <td>-1.341272</td>\n",
       "      <td>-1.312977</td>\n",
       "      <td>0</td>\n",
       "    </tr>\n",
       "  </tbody>\n",
       "</table>\n",
       "</div>"
      ],
      "text/plain": [
       "   Id  SepalLengthCm  SepalWidthCm  PetalLengthCm  PetalWidthCm  Species\n",
       "0   1      -0.900681      1.032057      -1.341272     -1.312977        0\n",
       "1   2      -1.143017     -0.124958      -1.341272     -1.312977        0\n",
       "2   3      -1.385353      0.337848      -1.398138     -1.312977        0\n",
       "3   4      -1.506521      0.106445      -1.284407     -1.312977        0\n",
       "4   5      -1.021849      1.263460      -1.341272     -1.312977        0"
      ]
     },
     "execution_count": 11,
     "metadata": {},
     "output_type": "execute_result"
    }
   ],
   "source": [
    "from sklearn.preprocessing import StandardScaler\n",
    "scaler = StandardScaler()\n",
    "columns_to_scale = ['SepalLengthCm', 'SepalWidthCm', 'PetalLengthCm', 'PetalWidthCm']\n",
    "\n",
    "for col in columns_to_scale:\n",
    "    iris[col] = scaler.fit_transform(iris[col].to_numpy().reshape(-1,1)) \n",
    "\n",
    "iris.head(5)"
   ]
  },
  {
   "cell_type": "markdown",
   "metadata": {},
   "source": [
    "## Mengecek Dimensi Fitur\n",
    "\n",
    "Untuk memastikan bentuk data pada kolom fitur yang akan digunakan, dilakukan pengecekan menggunakan atribut `.shape`.  \n",
    "Sebagai contoh, pada kolom **SepalLengthCm**, hasil yang diperoleh menunjukkan jumlah baris data yang tersedia.  \n",
    "\n",
    "Informasi ini penting untuk memverifikasi bahwa jumlah data konsisten pada setiap fitur sebelum dilakukan proses **scaling** maupun **split data**.\n"
   ]
  },
  {
   "cell_type": "code",
   "execution_count": 12,
   "metadata": {
    "execution": {
     "iopub.execute_input": "2025-09-03T06:21:45.310523Z",
     "iopub.status.busy": "2025-09-03T06:21:45.310112Z",
     "iopub.status.idle": "2025-09-03T06:21:45.326070Z",
     "shell.execute_reply": "2025-09-03T06:21:45.324846Z",
     "shell.execute_reply.started": "2025-09-03T06:21:45.310492Z"
    },
    "trusted": true
   },
   "outputs": [
    {
     "data": {
      "text/plain": [
       "(150,)"
      ]
     },
     "execution_count": 12,
     "metadata": {},
     "output_type": "execute_result"
    }
   ],
   "source": [
    "iris['SepalLengthCm'].shape"
   ]
  },
  {
   "cell_type": "markdown",
   "metadata": {},
   "source": [
    "## Transformasi Kolom Menjadi Array 2D\n",
    "\n",
    "Agar kolom fitur dapat diproses oleh algoritma Machine Learning maupun fungsi **scaling**, data perlu diubah ke dalam bentuk **array 2 dimensi**.  \n",
    "Hal ini dilakukan dengan perintah:\n",
    "\n",
    "```python\n",
    "iris['SepalLengthCm'].to_numpy().reshape(-1,1).shape\n"
   ]
  },
  {
   "cell_type": "code",
   "execution_count": 13,
   "metadata": {
    "execution": {
     "iopub.execute_input": "2025-09-03T06:21:45.327379Z",
     "iopub.status.busy": "2025-09-03T06:21:45.327066Z",
     "iopub.status.idle": "2025-09-03T06:21:45.341031Z",
     "shell.execute_reply": "2025-09-03T06:21:45.339646Z",
     "shell.execute_reply.started": "2025-09-03T06:21:45.327351Z"
    },
    "trusted": true
   },
   "outputs": [
    {
     "data": {
      "text/plain": [
       "(150, 1)"
      ]
     },
     "execution_count": 13,
     "metadata": {},
     "output_type": "execute_result"
    }
   ],
   "source": [
    "iris['SepalLengthCm'].to_numpy().reshape(-1,1).shape"
   ]
  },
  {
   "cell_type": "markdown",
   "metadata": {},
   "source": [
    "## Pemahaman Bentuk Array (Shape)\n",
    "\n",
    "Sebagai ilustrasi dasar, dibuat sebuah array sederhana menggunakan fungsi `np.array([1,2,3])`.  \n",
    "Ketika diperiksa dengan `.shape`, hasil yang ditampilkan adalah `(3,)`.  \n",
    "\n",
    "Artinya:  \n",
    "- Array tersebut memiliki **3 elemen** dalam **1 dimensi**.  \n",
    "- Bentuk seperti ini sering disebut sebagai *one-dimensional array* (array 1D).  \n",
    "\n",
    "Hal ini berbeda dengan array hasil transformasi menggunakan `.reshape(-1,1)` yang menghasilkan array 2 dimensi (n baris × 1 kolom).  \n",
    "Perbedaan representasi ini penting karena sebagian besar algoritma Machine Learning, termasuk **scaler** dan **KNN**, membutuhkan input dalam format array 2D.\n"
   ]
  },
  {
   "cell_type": "code",
   "execution_count": 8,
   "metadata": {
    "execution": {
     "iopub.execute_input": "2025-09-03T06:21:45.342862Z",
     "iopub.status.busy": "2025-09-03T06:21:45.342525Z",
     "iopub.status.idle": "2025-09-03T06:21:45.355674Z",
     "shell.execute_reply": "2025-09-03T06:21:45.354348Z",
     "shell.execute_reply.started": "2025-09-03T06:21:45.342808Z"
    },
    "trusted": true
   },
   "outputs": [
    {
     "data": {
      "text/plain": [
       "(3,)"
      ]
     },
     "execution_count": 8,
     "metadata": {},
     "output_type": "execute_result"
    }
   ],
   "source": [
    "np.array(\n",
    "    [1,2,3]\n",
    ").shape"
   ]
  },
  {
   "cell_type": "markdown",
   "metadata": {},
   "source": [
    "## Perbedaan Representasi Array 2D\n",
    "\n",
    "Contoh lain dibuat dengan `np.array([[1],[2],[3]])`.  \n",
    "Ketika diperiksa dengan `.shape`, hasil yang ditampilkan adalah `(3,1)`.  \n",
    "\n",
    "Artinya:  \n",
    "- Array tersebut memiliki **3 baris** dan **1 kolom**.  \n",
    "- Bentuk ini merupakan representasi **array 2 dimensi**, sehingga sesuai dengan format input yang dibutuhkan oleh banyak algoritma Machine Learning.  \n",
    "\n",
    "Perbedaan ini menunjukkan pentingnya melakukan transformasi data dari bentuk `(n,)` menjadi `(n,1)` agar data dapat diproses dengan benar, khususnya pada tahap **scaling** maupun pemodelan **KNN**.\n"
   ]
  },
  {
   "cell_type": "code",
   "execution_count": 9,
   "metadata": {
    "execution": {
     "iopub.execute_input": "2025-09-03T06:21:45.357540Z",
     "iopub.status.busy": "2025-09-03T06:21:45.357115Z",
     "iopub.status.idle": "2025-09-03T06:21:45.370547Z",
     "shell.execute_reply": "2025-09-03T06:21:45.369207Z",
     "shell.execute_reply.started": "2025-09-03T06:21:45.357500Z"
    },
    "trusted": true
   },
   "outputs": [
    {
     "data": {
      "text/plain": [
       "(3, 1)"
      ]
     },
     "execution_count": 9,
     "metadata": {},
     "output_type": "execute_result"
    }
   ],
   "source": [
    "np.array(\n",
    "   [[1],[2],[3]]\n",
    ").shape\n"
   ]
  },
  {
   "cell_type": "markdown",
   "metadata": {},
   "source": [
    "# Splitting the data"
   ]
  },
  {
   "cell_type": "code",
   "execution_count": 10,
   "metadata": {
    "execution": {
     "iopub.execute_input": "2025-09-03T06:21:45.372283Z",
     "iopub.status.busy": "2025-09-03T06:21:45.371811Z",
     "iopub.status.idle": "2025-09-03T06:21:45.390090Z",
     "shell.execute_reply": "2025-09-03T06:21:45.388869Z",
     "shell.execute_reply.started": "2025-09-03T06:21:45.372238Z"
    },
    "trusted": true
   },
   "outputs": [],
   "source": [
    "X = iris.drop(columns=[\"Species\", \"Id\"])\n",
    "y = iris[\"Species\"]"
   ]
  },
  {
   "cell_type": "markdown",
   "metadata": {},
   "source": [
    "## Pembagian Data Train dan Test\n",
    "\n",
    "Setelah semua fitur siap digunakan, dataset perlu dibagi menjadi **data latih (train)** dan **data uji (test)** menggunakan fungsi `train_test_split` dari `sklearn.model_selection`.  \n",
    "\n",
    "- **X** → berisi fitur (input).  \n",
    "- **y** → berisi label target (*Species* yang sudah di-encode).  \n",
    "- **test_size=0.2** → 20% data digunakan sebagai data uji, sedangkan 80% sisanya digunakan sebagai data latih.  \n",
    "- **random_state=42** → digunakan untuk memastikan hasil pembagian data konsisten dan dapat direproduksi.  \n",
    "\n",
    "Hasil pembagian ditampilkan dalam bentuk dimensi:  \n",
    "- **X_train** : fitur data latih  \n",
    "- **X_test** : fitur data uji  \n",
    "- **y_train** : label data latih  \n",
    "- **y_test** : label data uji  \n",
    "\n",
    "Langkah ini penting agar performa model KNN nantinya dapat dievaluasi secara objektif menggunakan data yang belum pernah dilihat saat pelatihan.\n"
   ]
  },
  {
   "cell_type": "code",
   "execution_count": 17,
   "metadata": {
    "execution": {
     "iopub.execute_input": "2025-09-03T06:21:45.391875Z",
     "iopub.status.busy": "2025-09-03T06:21:45.391442Z",
     "iopub.status.idle": "2025-09-03T06:21:45.569535Z",
     "shell.execute_reply": "2025-09-03T06:21:45.568496Z",
     "shell.execute_reply.started": "2025-09-03T06:21:45.391813Z"
    },
    "trusted": true
   },
   "outputs": [
    {
     "data": {
      "text/plain": [
       "(120, 4)"
      ]
     },
     "metadata": {},
     "output_type": "display_data"
    },
    {
     "data": {
      "text/plain": [
       "(30, 4)"
      ]
     },
     "metadata": {},
     "output_type": "display_data"
    },
    {
     "data": {
      "text/plain": [
       "(120,)"
      ]
     },
     "metadata": {},
     "output_type": "display_data"
    },
    {
     "data": {
      "text/plain": [
       "(30,)"
      ]
     },
     "metadata": {},
     "output_type": "display_data"
    }
   ],
   "source": [
    "from sklearn.model_selection import train_test_split\n",
    "X_train, X_test, y_train, y_test = train_test_split(X, y, test_size=0.2, random_state=42)\n",
    "display(X_train.shape, X_test.shape, y_train.shape, y_test.shape)"
   ]
  },
  {
   "cell_type": "markdown",
   "metadata": {},
   "source": [
    "# KNN from sklearn"
   ]
  },
  {
   "cell_type": "code",
   "execution_count": 18,
   "metadata": {
    "execution": {
     "iopub.execute_input": "2025-09-03T06:21:45.571529Z",
     "iopub.status.busy": "2025-09-03T06:21:45.571095Z",
     "iopub.status.idle": "2025-09-03T06:21:45.835207Z",
     "shell.execute_reply": "2025-09-03T06:21:45.834204Z",
     "shell.execute_reply.started": "2025-09-03T06:21:45.571489Z"
    },
    "trusted": true
   },
   "outputs": [],
   "source": [
    "from sklearn.neighbors import KNeighborsClassifier as KNN"
   ]
  },
  {
   "cell_type": "markdown",
   "metadata": {},
   "source": [
    "## Pelatihan dan Prediksi Model KNN\n",
    "\n",
    "Tahap berikutnya adalah membangun model **K-Nearest Neighbors (KNN)** dengan parameter:  \n",
    "- **n_neighbors = 5** → jumlah tetangga terdekat yang digunakan untuk menentukan kelas.  \n",
    "- **metric = 'euclidean'** → menggunakan jarak Euclidean sebagai ukuran kedekatan antar data.  \n",
    "\n",
    "Langkah-langkah yang dilakukan:  \n",
    "1. **fit (training)** → model dilatih menggunakan data latih (`X_train`, `y_train`).  \n",
    "2. **predict (testing)** → model yang sudah dilatih digunakan untuk memprediksi kelas dari data uji (`X_test`).  \n",
    "\n",
    "Output dari proses prediksi berupa array `y_pred`, yang berisi label kelas hasil prediksi model untuk setiap sampel pada data uji.\n"
   ]
  },
  {
   "cell_type": "code",
   "execution_count": null,
   "metadata": {
    "execution": {
     "iopub.execute_input": "2025-09-03T06:21:45.836673Z",
     "iopub.status.busy": "2025-09-03T06:21:45.836329Z",
     "iopub.status.idle": "2025-09-03T06:21:45.858233Z",
     "shell.execute_reply": "2025-09-03T06:21:45.856935Z",
     "shell.execute_reply.started": "2025-09-03T06:21:45.836643Z"
    },
    "trusted": true
   },
   "outputs": [
    {
     "data": {
      "text/plain": [
       "array([1, 0, 2, 1, 1, 0, 1, 2, 1, 1, 2, 0, 0, 0, 0, 1, 2, 1, 1, 2, 0, 2,\n",
       "       0, 2, 2, 2, 2, 2, 0, 0])"
      ]
     },
     "execution_count": 28,
     "metadata": {},
     "output_type": "execute_result"
    }
   ],
   "source": [
    "model = KNN(n_neighbors=5, metric='euclidean')\n",
    "\n",
    "model.fit(X_train, y_train)\n",
    "\n",
    "\n",
    "y_pred = model.predict(X_test)\n",
    "y_pred"
   ]
  },
  {
   "cell_type": "markdown",
   "metadata": {},
   "source": [
    "## Percobaan Model KNN dengan k = 7\n",
    "\n",
    "Untuk melihat pengaruh variasi jumlah tetangga terhadap hasil klasifikasi, dilakukan percobaan kedua dengan parameter:  \n",
    "- **n_neighbors = 7**  \n",
    "- **metric = 'euclidean'**  \n",
    "\n",
    "Proses yang dilakukan tetap sama, yaitu:  \n",
    "1. **Training** → model dilatih menggunakan data latih (`X_train`, `y_train`).  \n",
    "2. **Testing** → model digunakan untuk memprediksi label dari data uji (`X_test`).  \n",
    "\n",
    "Hasil prediksi disimpan pada variabel `y_pred`.  \n",
    "Langkah ini memungkinkan perbandingan performa antara model dengan **k=5** dan **k=7** pada tahap evaluasi berikutnya.\n"
   ]
  },
  {
   "cell_type": "code",
   "execution_count": null,
   "metadata": {},
   "outputs": [
    {
     "data": {
      "text/plain": [
       "array([1, 0, 2, 1, 1, 0, 1, 2, 1, 1, 2, 0, 0, 0, 0, 1, 2, 1, 1, 2, 0, 2,\n",
       "       0, 2, 2, 2, 2, 2, 0, 0])"
      ]
     },
     "execution_count": 29,
     "metadata": {},
     "output_type": "execute_result"
    }
   ],
   "source": [
    "model = KNN(n_neighbors=7, metric= 'euclidean')\n",
    "\n",
    "model.fit(X_train, y_train)\n",
    "\n",
    "\n",
    "y_pred = model.predict(X_test)\n",
    "y_pred"
   ]
  },
  {
   "cell_type": "markdown",
   "metadata": {},
   "source": [
    "## Perbandingan Hasil Prediksi dengan Nilai Sebenarnya\n",
    "\n",
    "Untuk mengevaluasi kinerja model secara lebih jelas, hasil prediksi dibandingkan langsung dengan label sebenarnya pada data uji.  \n",
    "Hal ini dilakukan dengan membentuk sebuah **DataFrame** yang berisi dua kolom:  \n",
    "\n",
    "- **Predictions** → hasil prediksi model KNN.  \n",
    "- **True values** → label target sebenarnya dari data uji.  \n",
    "\n",
    "Dengan cara ini, dapat diamati secara langsung apakah model mampu mengklasifikasikan data dengan benar atau masih terdapat kesalahan prediksi.  \n",
    "Tahap ini menjadi dasar sebelum dilakukan evaluasi kuantitatif menggunakan metrik seperti **akurasi, confusion matrix, dan classification report**.\n"
   ]
  },
  {
   "cell_type": "code",
   "execution_count": 30,
   "metadata": {
    "execution": {
     "iopub.execute_input": "2025-09-03T06:21:45.860185Z",
     "iopub.status.busy": "2025-09-03T06:21:45.859813Z",
     "iopub.status.idle": "2025-09-03T06:21:45.877680Z",
     "shell.execute_reply": "2025-09-03T06:21:45.876337Z",
     "shell.execute_reply.started": "2025-09-03T06:21:45.860148Z"
    },
    "trusted": true
   },
   "outputs": [
    {
     "data": {
      "text/html": [
       "<div>\n",
       "<style scoped>\n",
       "    .dataframe tbody tr th:only-of-type {\n",
       "        vertical-align: middle;\n",
       "    }\n",
       "\n",
       "    .dataframe tbody tr th {\n",
       "        vertical-align: top;\n",
       "    }\n",
       "\n",
       "    .dataframe thead th {\n",
       "        text-align: right;\n",
       "    }\n",
       "</style>\n",
       "<table border=\"1\" class=\"dataframe\">\n",
       "  <thead>\n",
       "    <tr style=\"text-align: right;\">\n",
       "      <th></th>\n",
       "      <th>Predictions</th>\n",
       "      <th>True values</th>\n",
       "    </tr>\n",
       "  </thead>\n",
       "  <tbody>\n",
       "    <tr>\n",
       "      <th>73</th>\n",
       "      <td>1</td>\n",
       "      <td>1</td>\n",
       "    </tr>\n",
       "    <tr>\n",
       "      <th>18</th>\n",
       "      <td>0</td>\n",
       "      <td>0</td>\n",
       "    </tr>\n",
       "    <tr>\n",
       "      <th>118</th>\n",
       "      <td>2</td>\n",
       "      <td>2</td>\n",
       "    </tr>\n",
       "    <tr>\n",
       "      <th>78</th>\n",
       "      <td>1</td>\n",
       "      <td>1</td>\n",
       "    </tr>\n",
       "    <tr>\n",
       "      <th>76</th>\n",
       "      <td>1</td>\n",
       "      <td>1</td>\n",
       "    </tr>\n",
       "    <tr>\n",
       "      <th>31</th>\n",
       "      <td>0</td>\n",
       "      <td>0</td>\n",
       "    </tr>\n",
       "    <tr>\n",
       "      <th>64</th>\n",
       "      <td>1</td>\n",
       "      <td>1</td>\n",
       "    </tr>\n",
       "    <tr>\n",
       "      <th>141</th>\n",
       "      <td>2</td>\n",
       "      <td>2</td>\n",
       "    </tr>\n",
       "    <tr>\n",
       "      <th>68</th>\n",
       "      <td>1</td>\n",
       "      <td>1</td>\n",
       "    </tr>\n",
       "    <tr>\n",
       "      <th>82</th>\n",
       "      <td>1</td>\n",
       "      <td>1</td>\n",
       "    </tr>\n",
       "    <tr>\n",
       "      <th>110</th>\n",
       "      <td>2</td>\n",
       "      <td>2</td>\n",
       "    </tr>\n",
       "    <tr>\n",
       "      <th>12</th>\n",
       "      <td>0</td>\n",
       "      <td>0</td>\n",
       "    </tr>\n",
       "    <tr>\n",
       "      <th>36</th>\n",
       "      <td>0</td>\n",
       "      <td>0</td>\n",
       "    </tr>\n",
       "    <tr>\n",
       "      <th>9</th>\n",
       "      <td>0</td>\n",
       "      <td>0</td>\n",
       "    </tr>\n",
       "    <tr>\n",
       "      <th>19</th>\n",
       "      <td>0</td>\n",
       "      <td>0</td>\n",
       "    </tr>\n",
       "    <tr>\n",
       "      <th>56</th>\n",
       "      <td>1</td>\n",
       "      <td>1</td>\n",
       "    </tr>\n",
       "    <tr>\n",
       "      <th>104</th>\n",
       "      <td>2</td>\n",
       "      <td>2</td>\n",
       "    </tr>\n",
       "    <tr>\n",
       "      <th>69</th>\n",
       "      <td>1</td>\n",
       "      <td>1</td>\n",
       "    </tr>\n",
       "    <tr>\n",
       "      <th>55</th>\n",
       "      <td>1</td>\n",
       "      <td>1</td>\n",
       "    </tr>\n",
       "    <tr>\n",
       "      <th>132</th>\n",
       "      <td>2</td>\n",
       "      <td>2</td>\n",
       "    </tr>\n",
       "    <tr>\n",
       "      <th>29</th>\n",
       "      <td>0</td>\n",
       "      <td>0</td>\n",
       "    </tr>\n",
       "    <tr>\n",
       "      <th>127</th>\n",
       "      <td>2</td>\n",
       "      <td>2</td>\n",
       "    </tr>\n",
       "    <tr>\n",
       "      <th>26</th>\n",
       "      <td>0</td>\n",
       "      <td>0</td>\n",
       "    </tr>\n",
       "    <tr>\n",
       "      <th>128</th>\n",
       "      <td>2</td>\n",
       "      <td>2</td>\n",
       "    </tr>\n",
       "    <tr>\n",
       "      <th>131</th>\n",
       "      <td>2</td>\n",
       "      <td>2</td>\n",
       "    </tr>\n",
       "    <tr>\n",
       "      <th>145</th>\n",
       "      <td>2</td>\n",
       "      <td>2</td>\n",
       "    </tr>\n",
       "    <tr>\n",
       "      <th>108</th>\n",
       "      <td>2</td>\n",
       "      <td>2</td>\n",
       "    </tr>\n",
       "    <tr>\n",
       "      <th>143</th>\n",
       "      <td>2</td>\n",
       "      <td>2</td>\n",
       "    </tr>\n",
       "    <tr>\n",
       "      <th>45</th>\n",
       "      <td>0</td>\n",
       "      <td>0</td>\n",
       "    </tr>\n",
       "    <tr>\n",
       "      <th>30</th>\n",
       "      <td>0</td>\n",
       "      <td>0</td>\n",
       "    </tr>\n",
       "  </tbody>\n",
       "</table>\n",
       "</div>"
      ],
      "text/plain": [
       "     Predictions  True values\n",
       "73             1            1\n",
       "18             0            0\n",
       "118            2            2\n",
       "78             1            1\n",
       "76             1            1\n",
       "31             0            0\n",
       "64             1            1\n",
       "141            2            2\n",
       "68             1            1\n",
       "82             1            1\n",
       "110            2            2\n",
       "12             0            0\n",
       "36             0            0\n",
       "9              0            0\n",
       "19             0            0\n",
       "56             1            1\n",
       "104            2            2\n",
       "69             1            1\n",
       "55             1            1\n",
       "132            2            2\n",
       "29             0            0\n",
       "127            2            2\n",
       "26             0            0\n",
       "128            2            2\n",
       "131            2            2\n",
       "145            2            2\n",
       "108            2            2\n",
       "143            2            2\n",
       "45             0            0\n",
       "30             0            0"
      ]
     },
     "execution_count": 30,
     "metadata": {},
     "output_type": "execute_result"
    }
   ],
   "source": [
    "pd.DataFrame({\"Predictions\" :y_pred,\"True values\": y_test})"
   ]
  },
  {
   "cell_type": "markdown",
   "metadata": {},
   "source": [
    "## Evaluasi Model\n",
    "\n",
    "mari kita import library yang dibutuhkan "
   ]
  },
  {
   "cell_type": "code",
   "execution_count": 33,
   "metadata": {},
   "outputs": [],
   "source": [
    "from sklearn.metrics import confusion_matrix, classification_report\n",
    "import seaborn as sns\n",
    "import matplotlib.pyplot as plt\n"
   ]
  },
  {
   "cell_type": "markdown",
   "metadata": {},
   "source": [
    "## Evaluasi dengan Confusion Matrix\n",
    "\n",
    "Untuk mengevaluasi performa model KNN secara lebih detail, digunakan **Confusion Matrix**.  \n",
    "Confusion Matrix memperlihatkan jumlah prediksi yang:  \n",
    "- Benar terklasifikasi (nilai diagonal).  \n",
    "- Salah terklasifikasi (nilai di luar diagonal).  \n",
    "\n",
    "Visualisasi dilakukan menggunakan `seaborn.heatmap` dengan sumbu:  \n",
    "- **X (Prediksi)** → kelas hasil prediksi model.  \n",
    "- **Y (Aktual)** → kelas sebenarnya dari data uji.  \n",
    "\n",
    "Dari Confusion Matrix, dapat terlihat distribusi keberhasilan dan kesalahan model dalam mengklasifikasikan setiap kelas bunga *Iris*.  \n",
    "Analisis ini menjadi dasar untuk mengetahui kelas mana yang paling mudah dibedakan, serta kelas mana yang rawan tertukar.\n"
   ]
  },
  {
   "cell_type": "code",
   "execution_count": 34,
   "metadata": {},
   "outputs": [
    {
     "data": {
      "image/png": "[encoded data removed]",
      "text/plain": [
       "<Figure size 500x400 with 2 Axes>"
      ]
     },
     "metadata": {},
     "output_type": "display_data"
    }
   ],
   "source": [
    "cm = confusion_matrix(y_test, y_pred)\n",
    "\n",
    "plt.figure(figsize=(5,4))\n",
    "sns.heatmap(cm, annot=True, fmt=\"d\", cmap=\"Blues\", xticklabels=set(y_pred), yticklabels=set(y_test))\n",
    "plt.xlabel(\"Prediksi\")\n",
    "plt.ylabel(\"Aktual\")\n",
    "plt.title(\"Confusion Matrix\")\n",
    "plt.show()"
   ]
  },
  {
   "cell_type": "markdown",
   "metadata": {},
   "source": [
    "## Evaluasi dengan Classification Report\n",
    "\n",
    "Selain Confusion Matrix, evaluasi model juga dilakukan menggunakan **Classification Report**.  \n",
    "Laporan ini menampilkan metrik evaluasi utama untuk setiap kelas:  \n",
    "\n",
    "- **Precision** → proporsi prediksi benar dari semua prediksi pada kelas tertentu.  \n",
    "- **Recall** → proporsi prediksi benar dari semua data aktual pada kelas tersebut.  \n",
    "- **F1-score** → harmonisasi antara precision dan recall.  \n",
    "- **Support** → jumlah data aktual pada setiap kelas.  \n",
    "\n",
    "Hasil classification report memberikan gambaran yang lebih detail mengenai performa model dalam mengenali masing-masing kelas bunga *Iris*.  \n",
    "Dengan informasi ini, dapat diketahui apakah model bekerja seimbang pada semua kelas atau masih cenderung bias pada kelas tertentu.\n"
   ]
  },
  {
   "cell_type": "code",
   "execution_count": 35,
   "metadata": {},
   "outputs": [
    {
     "name": "stdout",
     "output_type": "stream",
     "text": [
      "Classification Report:\n",
      "              precision    recall  f1-score   support\n",
      "\n",
      "           0       1.00      1.00      1.00        10\n",
      "           1       1.00      1.00      1.00         9\n",
      "           2       1.00      1.00      1.00        11\n",
      "\n",
      "    accuracy                           1.00        30\n",
      "   macro avg       1.00      1.00      1.00        30\n",
      "weighted avg       1.00      1.00      1.00        30\n",
      "\n"
     ]
    }
   ],
   "source": [
    "print(\"Classification Report:\")\n",
    "print(classification_report(y_test, y_pred))\n"
   ]
  },
  {
   "cell_type": "markdown",
   "metadata": {},
   "source": [
    "## Penutup\n",
    "\n",
    "Sebagai penutup, saya mengucapkan terima kasih kepada **Bapak Aldinata** dan **Ibu Dini** selaku dosen pembimbing mata kuliah *Machine Learning* yang telah memberikan arahan serta ilmu pengetahuan sehingga tugas ini dapat diselesaikan dengan baik.  \n",
    "\n",
    "Melalui penyusunan dan penyelesaian tugas ini, saya juga berharap dapat semakin memahami konsep dasar **K-Nearest Neighbors (KNN)** serta langkah-langkah praktis dalam penerapannya.  \n",
    "Pemahaman ini diharapkan menjadi bekal untuk mempelajari algoritma machine learning lainnya secara lebih mendalam di masa mendatang.\n"
   ]
  }
 ],
 "metadata": {
  "kaggle": {
   "accelerator": "none",
   "dataSources": [
    {
     "datasetId": 19,
     "sourceId": 420,
     "sourceType": "datasetVersion"
    }
   ],
   "dockerImageVersionId": 30558,
   "isGpuEnabled": false,
   "isInternetEnabled": true,
   "language": "python",
   "sourceType": "notebook"
  },
  "kernelspec": {
   "display_name": "ML_venv (3.12.4)",
   "language": "python",
   "name": "python3"
  },
  "language_info": {
   "codemirror_mode": {
    "name": "ipython",
    "version": 3
   },
   "file_extension": ".py",
   "mimetype": "text/x-python",
   "name": "python",
   "nbconvert_exporter": "python",
   "pygments_lexer": "ipython3",
   "version": "3.12.4"
  }
 },
 "nbformat": 4,
 "nbformat_minor": 4
}
