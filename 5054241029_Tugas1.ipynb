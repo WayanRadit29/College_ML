{
 "cells": [
  {
   "cell_type": "markdown",
   "id": "b2e8103b",
   "metadata": {},
   "source": [
    "# Tugas KNN Prediction\n",
    "\n",
    "**Nama:** Wayan Raditya Putra  \n",
    "**NRP:** 5054241029  \n",
    "**Prodi:** Rekayasa Komputer dan Aplikasi (RKA) – Angkatan 2024\n"
   ]
  },
  {
   "cell_type": "code",
   "execution_count": 2,
   "id": "60b1721d",
   "metadata": {},
   "outputs": [
    {
     "name": "stdout",
     "output_type": "stream",
     "text": [
      "Prediksi k=3: +\n",
      "Prediksi k=7: -\n"
     ]
    }
   ],
   "source": [
    "from sklearn.neighbors import KNeighborsClassifier\n",
    "\n",
    "# bagian dataset pada soal\n",
    "X = [\n",
    "    [-1,  1],\n",
    "    [ 0,  1],\n",
    "    [ 0,  2],\n",
    "    [ 1, -1],\n",
    "    [ 1,  0],\n",
    "    [ 1,  2],\n",
    "    [ 2,  2],\n",
    "    [ 2,  3]\n",
    "]\n",
    "\n",
    "# Label kelas \n",
    "y = [\"-\", \"+\", \"-\", \"-\", \"+\", \"+\", \"-\", \"+\"]\n",
    "\n",
    "# data baru untuk diprediksi\n",
    "new_point = [[1,1]]\n",
    "\n",
    "# Prediksi k=3\n",
    "knn3 = KNeighborsClassifier(n_neighbors=3, metric='euclidean')\n",
    "knn3.fit(X, y)\n",
    "print(\"Prediksi k=3:\", knn3.predict(new_point)[0])\n",
    "\n",
    "# Prediksi k=7\n",
    "knn7 = KNeighborsClassifier(n_neighbors=7, metric='euclidean')\n",
    "knn7.fit(X, y)\n",
    "print(\"Prediksi k=7:\", knn7.predict(new_point)[0])"
   ]
  }
 ],
 "metadata": {
  "kernelspec": {
   "display_name": "ML_venv (3.12.4)",
   "language": "python",
   "name": "python3"
  },
  "language_info": {
   "codemirror_mode": {
    "name": "ipython",
    "version": 3
   },
   "file_extension": ".py",
   "mimetype": "text/x-python",
   "name": "python",
   "nbconvert_exporter": "python",
   "pygments_lexer": "ipython3",
   "version": "3.12.4"
  }
 },
 "nbformat": 4,
 "nbformat_minor": 5
}
